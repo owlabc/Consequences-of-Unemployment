{
 "cells": [
  {
   "cell_type": "markdown",
   "metadata": {
    "slideshow": {
     "slide_type": "slide"
    }
   },
   "source": [
    "# Modelling Consequences of Unemployment: Random and Fixed Effects\n",
    "### by Min Zou\n",
    "*(Work in progress. Please do not quote without authors' consent.)*"
   ]
  },
  {
   "cell_type": "markdown",
   "metadata": {},
   "source": [
    "## Define 'unemployment scarring' effect\n",
    "- There are two definitions:\n",
    " - Within unemployment: Clark et al. (2008)\n",
    " - Post unemployment: Clark et al. (2001), Lucas et al. (2003)\n",
    "- Unemployment scarring effects on income have also been studied (ref)."
   ]
  },
  {
   "cell_type": "markdown",
   "metadata": {},
   "source": [
    "## Preparing data\n",
    "- DV: Life satisfaction 0-10\n",
    "- IDV: Lead dummies (unemployment at t-1, t-2, t-3), lag dummies (within unemployment at t1,..., t5; post unemployment t1,..., t5)\n",
    "- Control: Age, gender (random effect only), education, marital status, number of children, health, household income\n",
    "\n",
    "## Modelling\n",
    "- Previous research: \n",
    " - Cross-sectional: ?\n",
    " - Panel: Random effect, mixed (essentially random effect) models with the exception of Clark et al. (2001) with potential room for improvement\n",
    "- Problem of random effect models: Unobserved heterogeneity\n",
    "- This study: compaing random effect and fixed effect"
   ]
  },
  {
   "cell_type": "markdown",
   "metadata": {},
   "source": [
    "# Data preparation"
   ]
  },
  {
   "cell_type": "code",
   "execution_count": null,
   "metadata": {
    "nbpresent": {
     "id": "834a6be5-99d3-4011-8ea2-416ee2895d37"
    },
    "scrolled": true
   },
   "outputs": [],
   "source": [
    "library(foreign);library(plm);library(plyr);library(dplyr);library(bife)"
   ]
  },
  {
   "cell_type": "code",
   "execution_count": null,
   "metadata": {
    "scrolled": true
   },
   "outputs": [],
   "source": [
    "file.to.merge <- 'respda' \n",
    "var <- c('paygl','jbsemp','jbsoc','jbot','jbsat2','jbsat4','jbsat6','jbsat7','jbsat','jbstat', \n",
    "         'age','sex','race','qfedhi','qfachi','qfvoc','scend', \n",
    "         'mastat','nchild','paygu','fihhmn',\n",
    "         'jbhrs','jbft','jbsize','region2','jbsect','jbsic','hlstat','hlprb', \n",
    "         'ptrt5a1','ptrt5a2','ptrt5a3', \n",
    "         'lfsato','hlghq1','hlghq2', #life satisfaction, ghq-36, ghq-12 \n",
    "         'lrwght') \n",
    "file.saved <- list.files('xxx//xxxx//xxxx//xxxx')\n",
    "file.sel <- file.saved[which(grepl(file.to.merge,file.saved)==T)]\n",
    "data.list <- lapply(file.sel, function(x){\n",
    "    read.dta(x,convert.factors=F)[,c(match('id',names(read.dta(x))),\n",
    "                                     na.omit(match(var,substring(names(read.dta(x)),2))))]})\n",
    "data.list2 <- lapply(data.list,function(x){x$xwave <- substr(names(x)[2],1,1);x})\n",
    "\n",
    "data.list3 <- lapply(data.list2,function(x){names(x) <- substring(names(x),2);x})\n",
    "data <- do.call(rbind.fill,data.list3)\n",
    "data$t.num <- as.numeric(as.factor(data$wave))\n",
    "write.csv(data,'data.csv',row.names=F)"
   ]
  },
  {
   "cell_type": "code",
   "execution_count": 43,
   "metadata": {
    "collapsed": true,
    "nbpresent": {
     "id": "4efd38da-e7fc-475d-b11e-45bc7855e8d6"
    },
    "scrolled": true
   },
   "outputs": [],
   "source": [
    "######## overal data prep ################################################################\n",
    "\n",
    "data<-read.csv('data.csv')\n",
    "data<-data[data$age>=16 & data$age<=60,]\n",
    "\n",
    "## recoding\n",
    "\n",
    "## create unemp & emp\n",
    "data <- data[order(data$id,data$wave.num),]\n",
    "data$unemp <- ifelse(data$jbstat==3,1,0) # unemployment\n",
    "data$emp <- ifelse(data$jbstat==2,1,0) # in paid emp\n",
    "\n",
    "\n",
    "## create jobsoc.3dgt, jobsoc2.dgt, jobsoc.1dgt\n",
    "data$jbsoc.3dgt <- data$jbsoc\n",
    "data$jbsoc.3dgt[data$jbsoc.3dgt == -9 | data$jbsoc.3dgt == -1 | (data$jbstat == 2 & data$jbsoc.3dgt == -8)] <- NA \n",
    "data$jbsoc.3dgt <- ifelse(data$emp == 1 & is.na(data$jbsoc.3dgt) == T &\n",
    "\t\t\tlag(data$emp,1) == 1 & lag(data$jbsoc.3dgt,1) > 0, lag(data$jbsoc.3dgt,1),data$jbsoc.3dgt)\n",
    "data$jbsoc.2dgt <- floor(data$jbsoc.3dgt/10)\n",
    "data$jbsoc.2dgt [data$jbsoc.2dgt==-1] <- -8\n",
    "data$jbsoc.1dgt <- floor(data$jbsoc.3dgt/100)\n",
    "data$jbsoc.1dgt [data$jbsoc.1dgt==-1] <- -8\n",
    "\n",
    "data$jbsoc.3dgt.emp <- ifelse(data$emp==1,data$jbsoc.3dgt,NA)\n",
    "data$jbsoc.2dgt.emp <- ifelse(data$emp==1,data$jbsoc.2dgt,NA)\n",
    "data$jbsoc.1dgt.emp <- ifelse(data$emp==1,data$jbsoc.1dgt,NA)\n",
    "\n",
    "\n",
    "## age\n",
    "data$age [data$age == -9] <- NA\n",
    "\n",
    "## sex\n",
    "data$sex [data$sex < 0] <- NA #1-M 2-F\n",
    "\n",
    "## year of schooling\n",
    "data$scend [data$scend == -8 |data$scend == -9] <- NA\n",
    "data$yrschl <- data$scend - 5\n",
    "\n",
    "## experience\n",
    "data$exp <- data$age - data$scend\n",
    "\n",
    "## educational qualifications\n",
    "data$edu <- data$qfedhi\n",
    "data$edu [data$edu < 0] <- NA\n",
    "\n",
    "#Higher Degree\t1\t122\t1.2\t1.2\n",
    "#First Degree\t2\t598\t5.8\t6.0\n",
    "#Teaching QF\t3\t225\t2.2\t2.3\n",
    "#Other Higher QF\t4\t1207\t11.8\t12.2\n",
    "#Nursing QF\t5\t215\t2.1\t2.2\n",
    "#GCE A Levels\t6\t985\t9.6\t10.0\n",
    "#GCE O Levels or Equi\t7\t2086\t20.3\t21.1\n",
    "\n",
    "## academic qualifications\n",
    "data$academic <- data$qfachi\n",
    "data$academic [data$academic < 0] <- NA\n",
    "\n",
    "#Higher Degree\t1\t122\t1.2\t1.2\n",
    "#1st Degree\t2\t598\t5.8\t6.0\n",
    "#HND,HNC,Teaching\t3\t496\t4.8\t5.0\n",
    "\n",
    "## health\n",
    "data$hlstat [data$hlstat == -9 |data$hlstat == -2] <- NA\n",
    "data$health <- 6 - data$hlstat \n",
    "\n",
    "## marital status\n",
    "data$mastat [data$mastat < 0] <- NA \n",
    "data$couple <- ifelse(\tdata$mastat == 1 | data$mastat == 2 | data$mastat == 7 | data$mastat == 98,\n",
    "\t\t\t\t1,0)  \n",
    "\n",
    "## hhincome\n",
    "data$hhincome <- data$fihhmn\n",
    "data$hhincome [data$fihhmn < 0] <- NA\n",
    "\n",
    "## jbhrs\n",
    "data$wkhrs <- ifelse(data$jbhrs > 0, data$jbhrs, NA)\n",
    "\n",
    "## full time job\n",
    "data$fulltime <- data$jbft\n",
    "data$fulltime [data$fulltime < 0] <- NA\n",
    "data$fulltime <- ifelse(data$fulltime==1,1,0)\n",
    "\n",
    "## emp status\n",
    "data$empstat <- as.factor(ifelse(data$jbft==-8,3,ifelse(data$jbft<0,NA,data$jbft)))\n",
    "levels(data$empstat) <- c('full time','part time','inactive')\n",
    "\n",
    "## sector\n",
    "data$private <- ifelse(data$jbsect==1,1,ifelse(data$jbsect>=2 & data$jbsect<=6,0,NA))\n",
    "\n",
    "## life satisfaction\n",
    "data$lfsato [data$lfsato < 0] <- NA\n",
    "\n",
    "## region2\n",
    "data$region2 [data$region2 < 0] <- NA\n",
    "\n",
    "## nchild no need to recode\n"
   ]
  },
  {
   "cell_type": "code",
   "execution_count": 44,
   "metadata": {
    "collapsed": true
   },
   "outputs": [],
   "source": [
    "###################### prepare data for creating within unemp lag dummies #############################\n",
    "data$unemp.1styr.each.slot <- ifelse(data$id == lag(data$id,1) & \n",
    "\t\t\t\t\t\t data$wave.num == lag(data$wave.num,1) + 1 &\n",
    "\t\t\t\t\t\t data$unemp == 1 & lag(data$unemp,1) == 0 ,\n",
    "\t\t\t\t\t\t 1,0)\n",
    "\n",
    "data<-data[order(data$id,-data$wave.num),]\n",
    "data$wave.seq.check <- ave(data$wave.num,data$id,FUN=seq_along)\n",
    "data$unemp.grp <- data$wave.num + data$wave.seq.check\n",
    "data<-data[order(data$id,data$wave.num),]\n",
    "\n",
    "data$unemp.withinid.each.slot <- ave(data$unemp.1styr.each.slot, data$id, data$unemp, data$unemp.grp,FUN = cumsum)\n",
    "data$unemp.withinid.each.slot.bin <- ifelse(data$unemp.withinid.each.slot>0,1,0)\n",
    "data$unemp.withinid.each.slot.seq <- ave(data$unemp.withinid.each.slot.bin, data$id, data$unemp.grp, data$unemp.withinid.each.slot,FUN = cumsum)"
   ]
  },
  {
   "cell_type": "code",
   "execution_count": null,
   "metadata": {},
   "outputs": [],
   "source": [
    "###################### prepare data for creating emp after unemp lag dummies #############################\n",
    "data$unemp.lastyr.each.slot <- ifelse(data$unemp == 1 & lead(data$unemp,1) == 0 &\n",
    "\t\t\t\t\t\t  data$wave.num == lead(data$wave.num) - 1 & \n",
    "\t\t\t\t\t\t  data$id == lead(data$id,1) ,\n",
    "\t\t\t\t\t\t  1, 0)\n",
    "\n",
    "sum(data$unemp.lastyr.each.slot)"
   ]
  },
  {
   "cell_type": "code",
   "execution_count": 33,
   "metadata": {
    "collapsed": true,
    "nbpresent": {
     "id": "730f4460-96e6-4a26-bd14-c2f5e9759db1"
    },
    "scrolled": true
   },
   "outputs": [],
   "source": [
    "################# create emp after unemployment lag dummies ##########################\n",
    "lg <- 50\n",
    "\n",
    "row.unemp.lastyr.each.slot <- which(data$unemp.lastyr.each.slot==1)\n",
    "row.loop <- row.unemp.lastyr.each.slot\n",
    "for (i in 1:lg) {\n",
    "\trows <- row.loop[which(\tdata[row.loop+1,'emp'] == 1 & \n",
    "\t\t\t\t\tdata[row.loop+1,'id'] == data[row.loop,'id'] & \n",
    "\t\t\t\t\tdata[row.loop+1,'wave.num'] == data[row.loop,'wave.num']+1)]\n",
    "\tdata[paste0('emp.postunemp.in1yr.t',i)] <- 0\n",
    "\tdata[c(rows+1),paste0('emp.postunemp.in1yr.t',i)] <- 1\n",
    "\trow.loop <- rows+1\n",
    "\t#print(rows[1:5])\n",
    "}\n",
    "\n",
    "row.unemp.lastyr.each.slot <- which(data$unemp.lastyr.each.slot==1)\n",
    "row.loop <- row.unemp.lastyr.each.slot\n",
    "for (i in 1:lg) {\n",
    "\tif (i == 1) {rows <- row.loop[which(\tdata[row.loop+1,'emp'] == 0 & \n",
    "\t\t\t\t\tdata[row.loop+1,'id'] == data[row.loop,'id'] & \n",
    "\t\t\t\t\tdata[row.loop+1,'wave.num'] == data[row.loop,'wave.num']+1 &\n",
    "\t\t\t\t\tdata[row.loop+2,'emp'] == 1 & \n",
    "\t\t\t\t\tdata[row.loop+2,'id'] == data[row.loop,'id'] & \n",
    "\t\t\t\t\tdata[row.loop+2,'wave.num'] == data[row.loop,'wave.num']+2) ]\n",
    "\tdata[paste0('emp.postunemp.in2yr.t',i)] <- 0\n",
    "\tdata[c(rows+2),paste0('emp.postunemp.in2yr.t',i)] <- 1\n",
    "\trow.loop <- rows+2}\n",
    "\tif (i >= 2) {rows <- row.loop[which(\tdata[row.loop+1,'emp'] == 1 & \n",
    "\t\t\t\t\tdata[row.loop+1,'id'] == data[row.loop,'id'] & \n",
    "\t\t\t\t\tdata[row.loop+1,'wave.num'] == data[row.loop,'wave.num']+1)]\n",
    "\tdata[paste0('emp.postunemp.in2yr.t',i)] <- 0\n",
    "\tdata[c(rows+1),paste0('emp.postunemp.in2yr.t',i)] <- 1\n",
    "\trow.loop <- rows+1}\n",
    "\t#print(rows[1:5])\n",
    "}\n",
    "\n",
    "\n",
    "for (i in 1:5) {\n",
    "\tdata[,paste0('emp.postunemp.in1_2yr.t',i)] <- data[,paste0('emp.postunemp.in1yr.t',i)] + data[,paste0('emp.postunemp.in2yr.t',i)]\n",
    "\t}\n",
    "\n",
    "\n",
    "################# create not in emp after unemployment lag dummies ##########################\n",
    "lg <- 50\n",
    "\n",
    "row.unemp.lastyr.each.slot <- which(data$unemp.lastyr.each.slot==1)\n",
    "row.loop <- row.unemp.lastyr.each.slot\n",
    "for (i in 1:lg) {\n",
    "\trows <- row.loop[which(\tdata[row.loop+1,'emp'] == 0 & data[row.loop+1,'unemp'] == 0 & \n",
    "\t\t\t\t\tdata[row.loop+1,'id'] == data[row.loop,'id'] & \n",
    "\t\t\t\t\tdata[row.loop+1,'wave.num'] == data[row.loop,'wave.num']+1)]\n",
    "\tdata[paste0('nonemp.postunemp.in1yr.t',i)] <- 0\n",
    "\tdata[c(rows+1),paste0('nonemp.postunemp.in1yr.t',i)] <- 1\n",
    "\trow.loop <- rows+1\n",
    "\t#print(rows[1:5])\n",
    "}\n",
    "\n",
    "################ create jbsoc.3dgt at emp.postunemp ##################\n",
    "## create jbsoc.3dgt.emp.at.unemp.t_1 ##\n",
    "row.postunemp.t0 <- which(data$unemp.lastyr.each.slot==1)\n",
    "len.unemp.withinid.each.slot <- data[row.postunemp.t0,'unemp.withinid.each.slot.seq']\n",
    "row.jbsoc.3dgt.emp.at.unemp.t_1 <- row.postunemp.t0 - len.unemp.withinid.each.slot\n",
    "data[row.postunemp.t0+1,'jbsoc.3dgt.emp.at.unemp.t_1']<-data[row.jbsoc.3dgt.emp.at.unemp.t_1,'jbsoc.3dgt.emp']\n",
    "\n",
    "data$jbsoc.3dgt.emp.at.unemp.t_1 [lag(data$unemp.withinid.each.slot.seq,1) == 0] <- NA\n",
    "\n",
    "data$jbsoc.2dgt.emp.at.unemp.t_1 <- floor(data$jbsoc.3dgt.emp.at.unemp.t_1 /10)\n",
    "data$jbsoc.1dgt.emp.at.unemp.t_1 <- floor(data$jbsoc.3dgt.emp.at.unemp.t_1 /100)\n",
    "\n",
    "## create jbsoc.3cls.at.unemp.t_1 ##\n",
    "data$jbsoc.3cls.at.unemp.t_1 <- ceiling(data$jbsoc.1dgt.emp.at.unemp.t_1/3)\n",
    "\n",
    "View(data)"
   ]
  },
  {
   "cell_type": "markdown",
   "metadata": {},
   "source": [
    "# Modelling life satisfaction within unemployment spells (fixed effect)\n",
    "- This is an attempt to replicate Clark et al.'s (2008) finding, not our main focus\n",
    "- Idea is to check recoded data quality and see if any potential for further research"
   ]
  },
  {
   "cell_type": "markdown",
   "metadata": {},
   "source": [
    "## The recoded data is in the following format:\n",
    "- An eligible unemployment spell is defined as:\n",
    " - There must be at least one wave preceding the wave when unemployment occured and they must be consecutive. \n",
    " - All unemployed waves within each unemployment spell are consecutive. \n",
    " - The 5th year and onwards after unemployment occured are recoded as the 5th year due to small Ns. "
   ]
  },
  {
   "cell_type": "code",
   "execution_count": 101,
   "metadata": {
    "scrolled": true
   },
   "outputs": [
    {
     "data": {
      "text/html": [
       "<table>\n",
       "<thead><tr><th></th><th scope=col>id</th><th scope=col>wave.num</th><th scope=col>emp</th><th scope=col>unemp</th><th scope=col>lfsato</th><th scope=col>unemp.t_3</th><th scope=col>unemp.t_2</th><th scope=col>unemp.t_1</th><th scope=col>unemp.in.t1</th><th scope=col>unemp.in.t2</th><th scope=col>unemp.in.t3</th><th scope=col>unemp.in.t4</th><th scope=col>unemp.in.t5plus</th></tr></thead>\n",
       "<tbody>\n",
       "\t<tr><th scope=row>1183</th><td>10110909</td><td> 8      </td><td>0       </td><td>0       </td><td> 4      </td><td>0       </td><td>0       </td><td>1       </td><td>0       </td><td>0       </td><td>0       </td><td>0       </td><td>0       </td></tr>\n",
       "\t<tr><th scope=row>1184</th><td>10110909</td><td> 9      </td><td>0       </td><td>1       </td><td> 2      </td><td>0       </td><td>0       </td><td>0       </td><td>1       </td><td>0       </td><td>0       </td><td>0       </td><td>0       </td></tr>\n",
       "\t<tr><th scope=row>1185</th><td>10110909</td><td>10      </td><td>0       </td><td>0       </td><td> 3      </td><td>0       </td><td>1       </td><td>0       </td><td>0       </td><td>0       </td><td>0       </td><td>0       </td><td>0       </td></tr>\n",
       "\t<tr><th scope=row>1186</th><td>10110909</td><td>11      </td><td>0       </td><td>0       </td><td>NA      </td><td>0       </td><td>0       </td><td>1       </td><td>0       </td><td>0       </td><td>0       </td><td>0       </td><td>0       </td></tr>\n",
       "\t<tr><th scope=row>1187</th><td>10110909</td><td>12      </td><td>0       </td><td>1       </td><td> 2      </td><td>0       </td><td>0       </td><td>0       </td><td>1       </td><td>0       </td><td>0       </td><td>0       </td><td>0       </td></tr>\n",
       "\t<tr><th scope=row>1188</th><td>10110909</td><td>13      </td><td>0       </td><td>0       </td><td> 3      </td><td>0       </td><td>1       </td><td>0       </td><td>0       </td><td>0       </td><td>0       </td><td>0       </td><td>0       </td></tr>\n",
       "\t<tr><th scope=row>1189</th><td>10110909</td><td>14      </td><td>0       </td><td>0       </td><td> 2      </td><td>0       </td><td>0       </td><td>1       </td><td>0       </td><td>0       </td><td>0       </td><td>0       </td><td>0       </td></tr>\n",
       "\t<tr><th scope=row>1190</th><td>10110909</td><td>15      </td><td>0       </td><td>1       </td><td> 2      </td><td>0       </td><td>0       </td><td>0       </td><td>1       </td><td>0       </td><td>0       </td><td>0       </td><td>0       </td></tr>\n",
       "\t<tr><th scope=row>1191</th><td>10110909</td><td>16      </td><td>0       </td><td>1       </td><td> 5      </td><td>0       </td><td>0       </td><td>0       </td><td>0       </td><td>1       </td><td>0       </td><td>0       </td><td>0       </td></tr>\n",
       "\t<tr><th scope=row>1192</th><td>10110909</td><td>17      </td><td>0       </td><td>0       </td><td> 3      </td><td>0       </td><td>0       </td><td>0       </td><td>0       </td><td>0       </td><td>0       </td><td>0       </td><td>0       </td></tr>\n",
       "\t<tr><th scope=row>1193</th><td>10110909</td><td>18      </td><td>0       </td><td>0       </td><td> 3      </td><td>0       </td><td>0       </td><td>0       </td><td>0       </td><td>0       </td><td>0       </td><td>0       </td><td>0       </td></tr>\n",
       "</tbody>\n",
       "</table>\n"
      ],
      "text/latex": [
       "\\begin{tabular}{r|lllllllllllll}\n",
       "  & id & wave.num & emp & unemp & lfsato & unemp.t\\_3 & unemp.t\\_2 & unemp.t\\_1 & unemp.in.t1 & unemp.in.t2 & unemp.in.t3 & unemp.in.t4 & unemp.in.t5plus\\\\\n",
       "\\hline\n",
       "\t1183 & 10110909 &  8       & 0        & 0        &  4       & 0        & 0        & 1        & 0        & 0        & 0        & 0        & 0       \\\\\n",
       "\t1184 & 10110909 &  9       & 0        & 1        &  2       & 0        & 0        & 0        & 1        & 0        & 0        & 0        & 0       \\\\\n",
       "\t1185 & 10110909 & 10       & 0        & 0        &  3       & 0        & 1        & 0        & 0        & 0        & 0        & 0        & 0       \\\\\n",
       "\t1186 & 10110909 & 11       & 0        & 0        & NA       & 0        & 0        & 1        & 0        & 0        & 0        & 0        & 0       \\\\\n",
       "\t1187 & 10110909 & 12       & 0        & 1        &  2       & 0        & 0        & 0        & 1        & 0        & 0        & 0        & 0       \\\\\n",
       "\t1188 & 10110909 & 13       & 0        & 0        &  3       & 0        & 1        & 0        & 0        & 0        & 0        & 0        & 0       \\\\\n",
       "\t1189 & 10110909 & 14       & 0        & 0        &  2       & 0        & 0        & 1        & 0        & 0        & 0        & 0        & 0       \\\\\n",
       "\t1190 & 10110909 & 15       & 0        & 1        &  2       & 0        & 0        & 0        & 1        & 0        & 0        & 0        & 0       \\\\\n",
       "\t1191 & 10110909 & 16       & 0        & 1        &  5       & 0        & 0        & 0        & 0        & 1        & 0        & 0        & 0       \\\\\n",
       "\t1192 & 10110909 & 17       & 0        & 0        &  3       & 0        & 0        & 0        & 0        & 0        & 0        & 0        & 0       \\\\\n",
       "\t1193 & 10110909 & 18       & 0        & 0        &  3       & 0        & 0        & 0        & 0        & 0        & 0        & 0        & 0       \\\\\n",
       "\\end{tabular}\n"
      ],
      "text/markdown": [
       "\n",
       "| <!--/--> | id | wave.num | emp | unemp | lfsato | unemp.t_3 | unemp.t_2 | unemp.t_1 | unemp.in.t1 | unemp.in.t2 | unemp.in.t3 | unemp.in.t4 | unemp.in.t5plus | \n",
       "|---|---|---|---|---|---|---|---|---|---|---|\n",
       "| 1183 | 10110909 |  8       | 0        | 0        |  4       | 0        | 0        | 1        | 0        | 0        | 0        | 0        | 0        | \n",
       "| 1184 | 10110909 |  9       | 0        | 1        |  2       | 0        | 0        | 0        | 1        | 0        | 0        | 0        | 0        | \n",
       "| 1185 | 10110909 | 10       | 0        | 0        |  3       | 0        | 1        | 0        | 0        | 0        | 0        | 0        | 0        | \n",
       "| 1186 | 10110909 | 11       | 0        | 0        | NA       | 0        | 0        | 1        | 0        | 0        | 0        | 0        | 0        | \n",
       "| 1187 | 10110909 | 12       | 0        | 1        |  2       | 0        | 0        | 0        | 1        | 0        | 0        | 0        | 0        | \n",
       "| 1188 | 10110909 | 13       | 0        | 0        |  3       | 0        | 1        | 0        | 0        | 0        | 0        | 0        | 0        | \n",
       "| 1189 | 10110909 | 14       | 0        | 0        |  2       | 0        | 0        | 1        | 0        | 0        | 0        | 0        | 0        | \n",
       "| 1190 | 10110909 | 15       | 0        | 1        |  2       | 0        | 0        | 0        | 1        | 0        | 0        | 0        | 0        | \n",
       "| 1191 | 10110909 | 16       | 0        | 1        |  5       | 0        | 0        | 0        | 0        | 1        | 0        | 0        | 0        | \n",
       "| 1192 | 10110909 | 17       | 0        | 0        |  3       | 0        | 0        | 0        | 0        | 0        | 0        | 0        | 0        | \n",
       "| 1193 | 10110909 | 18       | 0        | 0        |  3       | 0        | 0        | 0        | 0        | 0        | 0        | 0        | 0        | \n",
       "\n",
       "\n"
      ],
      "text/plain": [
       "     id       wave.num emp unemp lfsato unemp.t_3 unemp.t_2 unemp.t_1\n",
       "1183 10110909  8       0   0      4     0         0         1        \n",
       "1184 10110909  9       0   1      2     0         0         0        \n",
       "1185 10110909 10       0   0      3     0         1         0        \n",
       "1186 10110909 11       0   0     NA     0         0         1        \n",
       "1187 10110909 12       0   1      2     0         0         0        \n",
       "1188 10110909 13       0   0      3     0         1         0        \n",
       "1189 10110909 14       0   0      2     0         0         1        \n",
       "1190 10110909 15       0   1      2     0         0         0        \n",
       "1191 10110909 16       0   1      5     0         0         0        \n",
       "1192 10110909 17       0   0      3     0         0         0        \n",
       "1193 10110909 18       0   0      3     0         0         0        \n",
       "     unemp.in.t1 unemp.in.t2 unemp.in.t3 unemp.in.t4 unemp.in.t5plus\n",
       "1183 0           0           0           0           0              \n",
       "1184 1           0           0           0           0              \n",
       "1185 0           0           0           0           0              \n",
       "1186 0           0           0           0           0              \n",
       "1187 1           0           0           0           0              \n",
       "1188 0           0           0           0           0              \n",
       "1189 0           0           0           0           0              \n",
       "1190 1           0           0           0           0              \n",
       "1191 0           1           0           0           0              \n",
       "1192 0           0           0           0           0              \n",
       "1193 0           0           0           0           0              "
      ]
     },
     "metadata": {},
     "output_type": "display_data"
    }
   ],
   "source": [
    "vew <- data[,c('id','wave.num','emp','unemp','lfsato','unemp.t_3','unemp.t_2','unemp.t_1',\n",
    "               'unemp.in.t1','unemp.in.t2','unemp.in.t3','unemp.in.t4','unemp.in.t5plus')]\n",
    "vew[1050:1060,]"
   ]
  },
  {
   "cell_type": "code",
   "execution_count": 17,
   "metadata": {
    "collapsed": true,
    "scrolled": true
   },
   "outputs": [],
   "source": [
    "##### adpt in unemp - overall - within #####\n",
    "\n",
    "adpt.unemp <- plm(lfsato ~  unemp.t_3 + unemp.t_2 + unemp.t_1 + \n",
    "\t\t\tunemp.in.t1 + unemp.in.t2 + unemp.in.t3 + unemp.in.t4 + unemp.in.t5plus +\n",
    "\t\t\tage + as.factor(academic) +\n",
    "\t\t\thhincome + couple + nchild + health ,\n",
    "\t\t\tdata, #subset = (sex==1), \n",
    "\t\t\tindex = c('id','wave.num'), model = 'within')\n",
    "\n",
    "## adpt in unemp - by sex ##\n",
    "adpt.unemp.m <- plm(lfsato ~  unemp.t_3 + unemp.t_2 + unemp.t_1 + \n",
    "\t\t\tunemp.in.t1 + unemp.in.t2 + unemp.in.t3 + unemp.in.t4 + unemp.in.t5plus +\n",
    "\t\t\tage + as.factor(academic) +\n",
    "\t\t\thhincome + couple + nchild + health ,\n",
    "\t\t\tdata, subset = (sex==1), # male\n",
    "\t\t\tindex = c('id','wave.num'), model = 'within')\n",
    "adpt.unemp.f <- plm(lfsato ~  unemp.t_3 + unemp.t_2 + unemp.t_1 + \n",
    "\t\t\tunemp.in.t1 + unemp.in.t2 + unemp.in.t3 + unemp.in.t4 + unemp.in.t5plus +\n",
    "\t\t\tage + as.factor(academic) +\n",
    "\t\t\thhincome + couple + nchild + health ,\n",
    "\t\t\tdata, subset = (sex==2), # female\n",
    "\t\t\tindex = c('id','wave.num'), model = 'within')"
   ]
  },
  {
   "cell_type": "markdown",
   "metadata": {},
   "source": [
    "## Descriptive statistics: Life satisfaction within unemployment spells (fixed effect)"
   ]
  },
  {
   "cell_type": "code",
   "execution_count": 18,
   "metadata": {
    "scrolled": true
   },
   "outputs": [
    {
     "data": {
      "text/html": [
       "<dl class=dl-horizontal>\n",
       "\t<dt>unemp.in.t1(occured)</dt>\n",
       "\t\t<dd>4087</dd>\n",
       "\t<dt>unemp.in.t2</dt>\n",
       "\t\t<dd>885</dd>\n",
       "\t<dt>unemp.in.t3</dt>\n",
       "\t\t<dd>314</dd>\n",
       "\t<dt>unemp.in.t4</dt>\n",
       "\t\t<dd>132</dd>\n",
       "\t<dt>unemp.in.t5plus</dt>\n",
       "\t\t<dd>154</dd>\n",
       "</dl>\n"
      ],
      "text/latex": [
       "\\begin{description*}\n",
       "\\item[unemp.in.t1(occured)] 4087\n",
       "\\item[unemp.in.t2] 885\n",
       "\\item[unemp.in.t3] 314\n",
       "\\item[unemp.in.t4] 132\n",
       "\\item[unemp.in.t5plus] 154\n",
       "\\end{description*}\n"
      ],
      "text/markdown": [
       "unemp.in.t1(occured)\n",
       ":   4087unemp.in.t2\n",
       ":   885unemp.in.t3\n",
       ":   314unemp.in.t4\n",
       ":   132unemp.in.t5plus\n",
       ":   154\n",
       "\n"
      ],
      "text/plain": [
       "unemp.in.t1(occured)          unemp.in.t2          unemp.in.t3 \n",
       "                4087                  885                  314 \n",
       "         unemp.in.t4      unemp.in.t5plus \n",
       "                 132                  154 "
      ]
     },
     "metadata": {},
     "output_type": "display_data"
    },
    {
     "data": {
      "text/html": [
       "<dl class=dl-horizontal>\n",
       "\t<dt>n (respondents)</dt>\n",
       "\t\t<dd>'22102'</dd>\n",
       "\t<dt>T (waves)</dt>\n",
       "\t\t<dd>'1-11'</dd>\n",
       "\t<dt>N (observations)</dt>\n",
       "\t\t<dd>'116756'</dd>\n",
       "</dl>\n"
      ],
      "text/latex": [
       "\\begin{description*}\n",
       "\\item[n (respondents)] '22102'\n",
       "\\item[T (waves)] '1-11'\n",
       "\\item[N (observations)] '116756'\n",
       "\\end{description*}\n"
      ],
      "text/markdown": [
       "n (respondents)\n",
       ":   '22102'T (waves)\n",
       ":   '1-11'N (observations)\n",
       ":   '116756'\n",
       "\n"
      ],
      "text/plain": [
       " n (respondents)        T (waves) N (observations) \n",
       "         \"22102\"           \"1-11\"         \"116756\" "
      ]
     },
     "metadata": {},
     "output_type": "display_data"
    }
   ],
   "source": [
    "des <- data[,c('unemp.in.t1','unemp.in.t2','unemp.in.t3','unemp.in.t4','unemp.in.t5plus')]\n",
    "s <- sapply(des,sum)\n",
    "names(s)[1] <- 'unemp.in.t1(occured)'\n",
    "d.s <- c(22102,'1-11',116756)\n",
    "names(d.s) <- c('n (respondents)','T (waves)','N (observations)')\n",
    "s\n",
    "d.s"
   ]
  },
  {
   "cell_type": "markdown",
   "metadata": {},
   "source": [
    "## Model outputs: Life satisfaction within unemployment spells (fixed effect)"
   ]
  },
  {
   "cell_type": "code",
   "execution_count": 19,
   "metadata": {
    "nbpresent": {
     "id": "9c3abd56-d598-45df-81a1-4e63c2418207"
    }
   },
   "outputs": [
    {
     "data": {
      "text/plain": [
       "Oneway (individual) effect Within Model\n",
       "\n",
       "Call:\n",
       "plm(formula = lfsato ~ unemp.t_3 + unemp.t_2 + unemp.t_1 + unemp.in.t1 + \n",
       "    unemp.in.t2 + unemp.in.t3 + unemp.in.t4 + unemp.in.t5plus + \n",
       "    age + as.factor(academic) + hhincome + couple + nchild + \n",
       "    health, data = data, model = \"within\", index = c(\"id\", \"wave.num\"))\n",
       "\n",
       "Unbalanced Panel: n=22102, T=1-11, N=116756\n",
       "\n",
       "Residuals :\n",
       "    Min.  1st Qu.   Median  3rd Qu.     Max. \n",
       "-5.41000 -0.39200  0.00552  0.44300  4.56000 \n",
       "\n",
       "Coefficients :\n",
       "                        Estimate  Std. Error  t-value  Pr(>|t|)    \n",
       "unemp.t_3             5.2407e-03  3.1352e-02   0.1672 0.8672466    \n",
       "unemp.t_2            -2.0232e-02  2.6556e-02  -0.7619 0.4461393    \n",
       "unemp.t_1            -7.0646e-02  2.2624e-02  -3.1226 0.0017929 ** \n",
       "unemp.in.t1          -3.0793e-01  2.1339e-02 -14.4306 < 2.2e-16 ***\n",
       "unemp.in.t2          -4.0411e-01  4.2840e-02  -9.4329 < 2.2e-16 ***\n",
       "unemp.in.t3          -2.9760e-01  6.5971e-02  -4.5111 6.458e-06 ***\n",
       "unemp.in.t4          -2.6356e-01  9.7540e-02  -2.7021 0.0068920 ** \n",
       "unemp.in.t5plus      -3.9058e-01  1.0540e-01  -3.7058 0.0002108 ***\n",
       "age                  -7.9779e-03  9.1015e-04  -8.7654 < 2.2e-16 ***\n",
       "as.factor(academic)2 -7.6702e-02  5.5097e-02  -1.3921 0.1638885    \n",
       "as.factor(academic)3 -3.0836e-02  6.8333e-02  -0.4513 0.6518054    \n",
       "as.factor(academic)4  1.5531e-02  5.6621e-02   0.2743 0.7838512    \n",
       "as.factor(academic)5  3.4504e-02  5.9133e-02   0.5835 0.5595575    \n",
       "as.factor(academic)6 -1.5182e-02  9.1797e-02  -0.1654 0.8686394    \n",
       "as.factor(academic)7 -6.6960e-02  7.3452e-02  -0.9116 0.3619762    \n",
       "hhincome              4.8139e-06  1.9149e-06   2.5140 0.0119393 *  \n",
       "couple                2.1495e-01  1.2956e-02  16.5904 < 2.2e-16 ***\n",
       "nchild               -1.8821e-02  5.8888e-03  -3.1961 0.0013937 ** \n",
       "health                2.2359e-01  4.4495e-03  50.2500 < 2.2e-16 ***\n",
       "---\n",
       "Signif. codes:  0 ‘***’ 0.001 ‘**’ 0.01 ‘*’ 0.05 ‘.’ 0.1 ‘ ’ 1\n",
       "\n",
       "Total Sum of Squares:    73174\n",
       "Residual Sum of Squares: 70764\n",
       "R-Squared:      0.032938\n",
       "Adj. R-Squared: -0.1931\n",
       "F-statistic: 169.646 on 19 and 94635 DF, p-value: < 2.22e-16"
      ]
     },
     "metadata": {},
     "output_type": "display_data"
    },
    {
     "data": {
      "image/png": "[encoded data removed]",
      "text/plain": [
       "plot without title"
      ]
     },
     "metadata": {},
     "output_type": "display_data"
    }
   ],
   "source": [
    "summary(adpt.unemp)\n",
    "\n",
    "coef.adpt.unemp <- adpt.unemp$coefficients[1:8]#summary(adpt.unemp.m)\n",
    "\n",
    "par(mfrow=c(1,3))\n",
    "plot(coef.adpt.unemp,ylim=c(-0.5,0.1),type='o',xaxt = 'n',xlab='life satisfaction within unemp')\n",
    "abline(h=0,col='red')\n",
    "axis(1,at=c(2,4,6,8),labels=c('t-2','t(unemp)','t+2','t+4+')) "
   ]
  },
  {
   "cell_type": "markdown",
   "metadata": {},
   "source": [
    "# Modelling life satisfaction after unemp - the scarring effect (for those who found a job AND those who left paid employment)"
   ]
  },
  {
   "cell_type": "markdown",
   "metadata": {},
   "source": [
    "## Data looks like:"
   ]
  },
  {
   "cell_type": "code",
   "execution_count": 105,
   "metadata": {
    "scrolled": true
   },
   "outputs": [
    {
     "data": {
      "text/html": [
       "<table>\n",
       "<thead><tr><th></th><th scope=col>id</th><th scope=col>wave.num</th><th scope=col>emp</th><th scope=col>unemp</th><th scope=col>lfsato</th><th scope=col>postunemp.t1</th><th scope=col>postunemp.t2</th><th scope=col>postunemp.t3</th><th scope=col>postunemp.t4</th><th scope=col>postunemp.t5</th></tr></thead>\n",
       "<tbody>\n",
       "\t<tr><th scope=row>2666</th><td>10246401</td><td> 6      </td><td>1       </td><td>0       </td><td> 5      </td><td>0       </td><td>1       </td><td>0       </td><td>0       </td><td>0       </td></tr>\n",
       "\t<tr><th scope=row>2667</th><td>10246401</td><td> 7      </td><td>1       </td><td>0       </td><td> 5      </td><td>0       </td><td>0       </td><td>1       </td><td>0       </td><td>0       </td></tr>\n",
       "\t<tr><th scope=row>2668</th><td>10246401</td><td> 8      </td><td>0       </td><td>1       </td><td> 6      </td><td>0       </td><td>0       </td><td>0       </td><td>0       </td><td>0       </td></tr>\n",
       "\t<tr><th scope=row>2669</th><td>10246401</td><td> 9      </td><td>0       </td><td>1       </td><td> 5      </td><td>0       </td><td>0       </td><td>0       </td><td>0       </td><td>0       </td></tr>\n",
       "\t<tr><th scope=row>2670</th><td>10246401</td><td>10      </td><td>0       </td><td>1       </td><td> 4      </td><td>0       </td><td>0       </td><td>0       </td><td>0       </td><td>0       </td></tr>\n",
       "\t<tr><th scope=row>2671</th><td>10246401</td><td>11      </td><td>0       </td><td>0       </td><td>NA      </td><td>1       </td><td>0       </td><td>0       </td><td>0       </td><td>0       </td></tr>\n",
       "\t<tr><th scope=row>2672</th><td>10246401</td><td>12      </td><td>1       </td><td>0       </td><td> 5      </td><td>0       </td><td>1       </td><td>0       </td><td>0       </td><td>0       </td></tr>\n",
       "\t<tr><th scope=row>2673</th><td>10246401</td><td>13      </td><td>1       </td><td>0       </td><td> 6      </td><td>0       </td><td>0       </td><td>1       </td><td>0       </td><td>0       </td></tr>\n",
       "\t<tr><th scope=row>2674</th><td>10246401</td><td>14      </td><td>1       </td><td>0       </td><td> 5      </td><td>0       </td><td>0       </td><td>0       </td><td>1       </td><td>0       </td></tr>\n",
       "\t<tr><th scope=row>2675</th><td>10246401</td><td>16      </td><td>1       </td><td>0       </td><td> 6      </td><td>0       </td><td>0       </td><td>0       </td><td>0       </td><td>0       </td></tr>\n",
       "\t<tr><th scope=row>2676</th><td>10246401</td><td>17      </td><td>1       </td><td>0       </td><td> 5      </td><td>0       </td><td>0       </td><td>0       </td><td>0       </td><td>0       </td></tr>\n",
       "\t<tr><th scope=row>2677</th><td>10246401</td><td>18      </td><td>1       </td><td>0       </td><td> 5      </td><td>0       </td><td>0       </td><td>0       </td><td>0       </td><td>0       </td></tr>\n",
       "\t<tr><th scope=row>2678</th><td>10253068</td><td> 1      </td><td>1       </td><td>0       </td><td>NA      </td><td>0       </td><td>0       </td><td>0       </td><td>0       </td><td>0       </td></tr>\n",
       "</tbody>\n",
       "</table>\n"
      ],
      "text/latex": [
       "\\begin{tabular}{r|llllllllll}\n",
       "  & id & wave.num & emp & unemp & lfsato & postunemp.t1 & postunemp.t2 & postunemp.t3 & postunemp.t4 & postunemp.t5\\\\\n",
       "\\hline\n",
       "\t2666 & 10246401 &  6       & 1        & 0        &  5       & 0        & 1        & 0        & 0        & 0       \\\\\n",
       "\t2667 & 10246401 &  7       & 1        & 0        &  5       & 0        & 0        & 1        & 0        & 0       \\\\\n",
       "\t2668 & 10246401 &  8       & 0        & 1        &  6       & 0        & 0        & 0        & 0        & 0       \\\\\n",
       "\t2669 & 10246401 &  9       & 0        & 1        &  5       & 0        & 0        & 0        & 0        & 0       \\\\\n",
       "\t2670 & 10246401 & 10       & 0        & 1        &  4       & 0        & 0        & 0        & 0        & 0       \\\\\n",
       "\t2671 & 10246401 & 11       & 0        & 0        & NA       & 1        & 0        & 0        & 0        & 0       \\\\\n",
       "\t2672 & 10246401 & 12       & 1        & 0        &  5       & 0        & 1        & 0        & 0        & 0       \\\\\n",
       "\t2673 & 10246401 & 13       & 1        & 0        &  6       & 0        & 0        & 1        & 0        & 0       \\\\\n",
       "\t2674 & 10246401 & 14       & 1        & 0        &  5       & 0        & 0        & 0        & 1        & 0       \\\\\n",
       "\t2675 & 10246401 & 16       & 1        & 0        &  6       & 0        & 0        & 0        & 0        & 0       \\\\\n",
       "\t2676 & 10246401 & 17       & 1        & 0        &  5       & 0        & 0        & 0        & 0        & 0       \\\\\n",
       "\t2677 & 10246401 & 18       & 1        & 0        &  5       & 0        & 0        & 0        & 0        & 0       \\\\\n",
       "\t2678 & 10253068 &  1       & 1        & 0        & NA       & 0        & 0        & 0        & 0        & 0       \\\\\n",
       "\\end{tabular}\n"
      ],
      "text/markdown": [
       "\n",
       "| <!--/--> | id | wave.num | emp | unemp | lfsato | postunemp.t1 | postunemp.t2 | postunemp.t3 | postunemp.t4 | postunemp.t5 | \n",
       "|---|---|---|---|---|---|---|---|---|---|---|---|---|\n",
       "| 2666 | 10246401 |  6       | 1        | 0        |  5       | 0        | 1        | 0        | 0        | 0        | \n",
       "| 2667 | 10246401 |  7       | 1        | 0        |  5       | 0        | 0        | 1        | 0        | 0        | \n",
       "| 2668 | 10246401 |  8       | 0        | 1        |  6       | 0        | 0        | 0        | 0        | 0        | \n",
       "| 2669 | 10246401 |  9       | 0        | 1        |  5       | 0        | 0        | 0        | 0        | 0        | \n",
       "| 2670 | 10246401 | 10       | 0        | 1        |  4       | 0        | 0        | 0        | 0        | 0        | \n",
       "| 2671 | 10246401 | 11       | 0        | 0        | NA       | 1        | 0        | 0        | 0        | 0        | \n",
       "| 2672 | 10246401 | 12       | 1        | 0        |  5       | 0        | 1        | 0        | 0        | 0        | \n",
       "| 2673 | 10246401 | 13       | 1        | 0        |  6       | 0        | 0        | 1        | 0        | 0        | \n",
       "| 2674 | 10246401 | 14       | 1        | 0        |  5       | 0        | 0        | 0        | 1        | 0        | \n",
       "| 2675 | 10246401 | 16       | 1        | 0        |  6       | 0        | 0        | 0        | 0        | 0        | \n",
       "| 2676 | 10246401 | 17       | 1        | 0        |  5       | 0        | 0        | 0        | 0        | 0        | \n",
       "| 2677 | 10246401 | 18       | 1        | 0        |  5       | 0        | 0        | 0        | 0        | 0        | \n",
       "| 2678 | 10253068 |  1       | 1        | 0        | NA       | 0        | 0        | 0        | 0        | 0        | \n",
       "\n",
       "\n"
      ],
      "text/plain": [
       "     id       wave.num emp unemp lfsato postunemp.t1 postunemp.t2 postunemp.t3\n",
       "2666 10246401  6       1   0      5     0            1            0           \n",
       "2667 10246401  7       1   0      5     0            0            1           \n",
       "2668 10246401  8       0   1      6     0            0            0           \n",
       "2669 10246401  9       0   1      5     0            0            0           \n",
       "2670 10246401 10       0   1      4     0            0            0           \n",
       "2671 10246401 11       0   0     NA     1            0            0           \n",
       "2672 10246401 12       1   0      5     0            1            0           \n",
       "2673 10246401 13       1   0      6     0            0            1           \n",
       "2674 10246401 14       1   0      5     0            0            0           \n",
       "2675 10246401 16       1   0      6     0            0            0           \n",
       "2676 10246401 17       1   0      5     0            0            0           \n",
       "2677 10246401 18       1   0      5     0            0            0           \n",
       "2678 10253068  1       1   0     NA     0            0            0           \n",
       "     postunemp.t4 postunemp.t5\n",
       "2666 0            0           \n",
       "2667 0            0           \n",
       "2668 0            0           \n",
       "2669 0            0           \n",
       "2670 0            0           \n",
       "2671 0            0           \n",
       "2672 0            0           \n",
       "2673 0            0           \n",
       "2674 1            0           \n",
       "2675 0            0           \n",
       "2676 0            0           \n",
       "2677 0            0           \n",
       "2678 0            0           "
      ]
     },
     "metadata": {},
     "output_type": "display_data"
    }
   ],
   "source": [
    "vew <- data[,c('id','wave.num','emp','unemp','lfsato','postunemp.t1','postunemp.t2',\n",
    "               'postunemp.t3','postunemp.t4','postunemp.t5')]\n",
    "vew[2273:2285,]"
   ]
  },
  {
   "cell_type": "markdown",
   "metadata": {},
   "source": [
    "## Previous research - random effect"
   ]
  },
  {
   "cell_type": "markdown",
   "metadata": {},
   "source": [
    "### The following model replicates Lucas et al.'s (2004) study which used a mixed model\n",
    "- The important finding is that the coefficients of the postunemp dummies are all negative and significant"
   ]
  },
  {
   "cell_type": "markdown",
   "metadata": {},
   "source": [
    "### Descriptive statistics"
   ]
  },
  {
   "cell_type": "code",
   "execution_count": 20,
   "metadata": {
    "scrolled": true
   },
   "outputs": [
    {
     "data": {
      "text/html": [
       "<dl class=dl-horizontal>\n",
       "\t<dt>postunemp.t1</dt>\n",
       "\t\t<dd>4410</dd>\n",
       "\t<dt>postunemp.t2</dt>\n",
       "\t\t<dd>3150</dd>\n",
       "\t<dt>postunemp.t3</dt>\n",
       "\t\t<dd>2474</dd>\n",
       "\t<dt>postunemp.t4</dt>\n",
       "\t\t<dd>1987</dd>\n",
       "\t<dt>postunemp.t5</dt>\n",
       "\t\t<dd>1619</dd>\n",
       "</dl>\n"
      ],
      "text/latex": [
       "\\begin{description*}\n",
       "\\item[postunemp.t1] 4410\n",
       "\\item[postunemp.t2] 3150\n",
       "\\item[postunemp.t3] 2474\n",
       "\\item[postunemp.t4] 1987\n",
       "\\item[postunemp.t5] 1619\n",
       "\\end{description*}\n"
      ],
      "text/markdown": [
       "postunemp.t1\n",
       ":   4410postunemp.t2\n",
       ":   3150postunemp.t3\n",
       ":   2474postunemp.t4\n",
       ":   1987postunemp.t5\n",
       ":   1619\n",
       "\n"
      ],
      "text/plain": [
       "postunemp.t1 postunemp.t2 postunemp.t3 postunemp.t4 postunemp.t5 \n",
       "        4410         3150         2474         1987         1619 "
      ]
     },
     "metadata": {},
     "output_type": "display_data"
    },
    {
     "data": {
      "text/html": [
       "<dl class=dl-horizontal>\n",
       "\t<dt>n (respondents)</dt>\n",
       "\t\t<dd>'21868'</dd>\n",
       "\t<dt>T (waves)</dt>\n",
       "\t\t<dd>'1-12'</dd>\n",
       "\t<dt>N (observations)</dt>\n",
       "\t\t<dd>'120739'</dd>\n",
       "</dl>\n"
      ],
      "text/latex": [
       "\\begin{description*}\n",
       "\\item[n (respondents)] '21868'\n",
       "\\item[T (waves)] '1-12'\n",
       "\\item[N (observations)] '120739'\n",
       "\\end{description*}\n"
      ],
      "text/markdown": [
       "n (respondents)\n",
       ":   '21868'T (waves)\n",
       ":   '1-12'N (observations)\n",
       ":   '120739'\n",
       "\n"
      ],
      "text/plain": [
       " n (respondents)        T (waves) N (observations) \n",
       "         \"21868\"           \"1-12\"         \"120739\" "
      ]
     },
     "metadata": {},
     "output_type": "display_data"
    }
   ],
   "source": [
    "des <- data[,c('postunemp.t1','postunemp.t2','postunemp.t3','postunemp.t4','postunemp.t5')]\n",
    "s <- sapply(des,sum)\n",
    "d.s <- c(21868,'1-12',120739)\n",
    "names(d.s) <- c('n (respondents)','T (waves)','N (observations)')\n",
    "s\n",
    "d.s"
   ]
  },
  {
   "cell_type": "markdown",
   "metadata": {},
   "source": [
    "### Model outputs"
   ]
  },
  {
   "cell_type": "code",
   "execution_count": 21,
   "metadata": {},
   "outputs": [
    {
     "data": {
      "text/plain": [
       "Oneway (individual) effect Random Effect Model \n",
       "   (Swamy-Arora's transformation)\n",
       "\n",
       "Call:\n",
       "plm(formula = lfsato ~ unemp.t_2 + unemp.t_1 + unemp.in.t1 + \n",
       "    unemp.in.t2 + unemp.in.t3 + unemp.in.t4 + unemp.in.t5plus + \n",
       "    postunemp.t1 + postunemp.t2 + postunemp.t3 + postunemp.t4 + \n",
       "    postunemp.t5 + sex + age + hhincome, data = data, subset = (age <= \n",
       "    60), model = \"random\", index = c(\"id\", \"wave.num\"))\n",
       "\n",
       "Unbalanced Panel: n=21868, T=1-12, N=120739\n",
       "\n",
       "Effects:\n",
       "                 var std.dev share\n",
       "idiosyncratic 0.7762  0.8810 0.511\n",
       "individual    0.7431  0.8620 0.489\n",
       "theta  : \n",
       "   Min. 1st Qu.  Median    Mean 3rd Qu.    Max. \n",
       " 0.2852  0.5843  0.6775  0.6336  0.7170  0.7170 \n",
       "\n",
       "Residuals :\n",
       "   Min. 1st Qu.  Median    Mean 3rd Qu.    Max. \n",
       "-4.9400 -0.4590  0.1100  0.0008  0.5740  3.8400 \n",
       "\n",
       "Coefficients :\n",
       "                   Estimate  Std. Error  t-value  Pr(>|t|)    \n",
       "(Intercept)      5.2845e+00  2.7207e-02 194.2308 < 2.2e-16 ***\n",
       "unemp.t_2       -8.4460e-02  2.4706e-02  -3.4186 0.0006297 ***\n",
       "unemp.t_1       -1.4389e-01  2.0646e-02  -6.9695 3.198e-12 ***\n",
       "unemp.in.t1     -4.0678e-01  2.0758e-02 -19.5960 < 2.2e-16 ***\n",
       "unemp.in.t2     -4.8359e-01  4.1152e-02 -11.7512 < 2.2e-16 ***\n",
       "unemp.in.t3     -4.1490e-01  6.4531e-02  -6.4294 1.286e-10 ***\n",
       "unemp.in.t4     -3.1855e-01  9.6567e-02  -3.2987 0.0009715 ***\n",
       "unemp.in.t5plus -4.8990e-01  1.0036e-01  -4.8816 1.054e-06 ***\n",
       "postunemp.t1    -1.1440e-01  1.9524e-02  -5.8597 4.649e-09 ***\n",
       "postunemp.t2    -1.2589e-01  2.1904e-02  -5.7476 9.074e-09 ***\n",
       "postunemp.t3    -5.8259e-02  2.3264e-02  -2.5042 0.0122732 *  \n",
       "postunemp.t4    -6.0205e-02  2.4981e-02  -2.4101 0.0159501 *  \n",
       "postunemp.t5    -8.6690e-02  2.6629e-02  -3.2555 0.0011321 ** \n",
       "sex              6.4570e-03  1.3489e-02   0.4787 0.6321670    \n",
       "age             -5.3327e-03  4.4120e-04 -12.0868 < 2.2e-16 ***\n",
       "hhincome         2.2124e-05  1.6480e-06  13.4249 < 2.2e-16 ***\n",
       "---\n",
       "Signif. codes:  0 ‘***’ 0.001 ‘**’ 0.01 ‘*’ 0.05 ‘.’ 0.1 ‘ ’ 1\n",
       "\n",
       "Total Sum of Squares:    129500\n",
       "Residual Sum of Squares: 95395\n",
       "R-Squared:      0.26335\n",
       "Adj. R-Squared: 0.26326\n",
       "F-statistic: 2877.06 on 15 and 120723 DF, p-value: < 2.22e-16"
      ]
     },
     "metadata": {},
     "output_type": "display_data"
    },
    {
     "data": {
      "image/png": "[encoded data removed]",
      "text/plain": [
       "plot without title"
      ]
     },
     "metadata": {},
     "output_type": "display_data"
    }
   ],
   "source": [
    "adpt.unemp.int.random <- plm(lfsato ~ unemp.t_2 + unemp.t_1 + \n",
    "\t\t\tunemp.in.t1 + unemp.in.t2 + unemp.in.t3 + unemp.in.t4 + unemp.in.t5plus +\n",
    "\t\t\tpostunemp.t1 + postunemp.t2 + postunemp.t3  + \n",
    "\t\t\tpostunemp.t4  + postunemp.t5  + \n",
    "\t\t\tsex + age + hhincome,\n",
    "\t\t\tdata, subset = (age<=60),\n",
    "\t\t\tindex = c('id','wave.num'), model = 'random')\n",
    "\n",
    "summary(adpt.unemp.int.random)\n",
    "\n",
    "coef.adpt.unemp.random <- adpt.unemp.int.random$coefficients[2:13]\n",
    "\n",
    "plot(coef.adpt.unemp.random,ylim=c(-0.5,0.1),type='o',xaxt = 'n',xlab='life satisfaction around unemp')\n",
    "abline(h=0,col='red')\n",
    "axis(1,at=c(1,3,8),labels=c('t-2(unemp)','t(unemp)','t(post.unemp)')) \n"
   ]
  },
  {
   "cell_type": "markdown",
   "metadata": {},
   "source": [
    "## Previous research - fixed effect\n",
    " - Clark et al. (2001) modelled unemployment scarring effect on life satisfaction.\n",
    "  - They found unemployment in last three years has a scarring effect on current life satisfaction, ***employed or unemployed***.\n",
    "  - Most of the evidence was derived from comparing across respondents (ie, random effect).\n",
    "  - They did conduct the fixed effect model to control for unobserved heterogeneity (for obvious reasons!).\n",
    "    - They collapsed life satisfaction 0-10 into 0 and 1 (using 7 as the threshold), due to the fact (believe or not) we still don't have an ordered probit/logit fixed effect model!\n",
    "    - They found evidence of the scarring effect from the male sample but not the female sample.\n",
    "    "
   ]
  },
  {
   "cell_type": "markdown",
   "metadata": {},
   "source": [
    "## If we run Lucas et al.'s model using fixed effect, we find a much less severe scarring effect\n",
    "- The first year after unemployment is barely significant at 10% level.\n",
    "- But note similar to Clark et al.'s (2001) paper (they are the same group of people!), the post unemployment dummies capture two distinctive groups of respondents:\n",
    "  - Those who managed to find a job\n",
    "  - Those who left paid employment \n",
    "\n",
    "### Model outputs"
   ]
  },
  {
   "cell_type": "markdown",
   "metadata": {},
   "source": [
    "### We first run a Hausman test and indeed the results indicate the residuals are correlated with regressors"
   ]
  },
  {
   "cell_type": "code",
   "execution_count": 22,
   "metadata": {},
   "outputs": [
    {
     "data": {
      "text/plain": [
       "\n",
       "\tHausman Test\n",
       "\n",
       "data:  lfsato ~ unemp.t_2 + unemp.t_1 + unemp.in.t1 + unemp.in.t2 +  ...\n",
       "chisq = 589.18, df = 14, p-value < 2.2e-16\n",
       "alternative hypothesis: one model is inconsistent\n"
      ]
     },
     "metadata": {},
     "output_type": "display_data"
    },
    {
     "data": {
      "text/plain": [
       "Oneway (individual) effect Within Model\n",
       "\n",
       "Call:\n",
       "plm(formula = lfsato ~ unemp.t_2 + unemp.t_1 + unemp.in.t1 + \n",
       "    unemp.in.t2 + unemp.in.t3 + unemp.in.t4 + unemp.in.t5plus + \n",
       "    postunemp.t1 + postunemp.t2 + postunemp.t3 + postunemp.t4 + \n",
       "    postunemp.t5 + age + hhincome, data = data, subset = (age <= \n",
       "    60), model = \"within\", index = c(\"id\", \"wave.num\"))\n",
       "\n",
       "Unbalanced Panel: n=21868, T=1-12, N=120740\n",
       "\n",
       "Residuals :\n",
       "    Min.  1st Qu.   Median  3rd Qu.     Max. \n",
       "-5.31000 -0.40500  0.00663  0.46400  4.98000 \n",
       "\n",
       "Coefficients :\n",
       "                   Estimate  Std. Error  t-value  Pr(>|t|)    \n",
       "unemp.t_2       -3.4714e-02  2.5410e-02  -1.3661   0.17190    \n",
       "unemp.t_1       -8.6104e-02  2.1640e-02  -3.9789 6.929e-05 ***\n",
       "unemp.in.t1     -3.2797e-01  2.2225e-02 -14.7567 < 2.2e-16 ***\n",
       "unemp.in.t2     -3.9284e-01  4.2481e-02  -9.2473 < 2.2e-16 ***\n",
       "unemp.in.t3     -3.1347e-01  6.5826e-02  -4.7621 1.919e-06 ***\n",
       "unemp.in.t4     -2.3427e-01  9.8381e-02  -2.3812   0.01726 *  \n",
       "unemp.in.t5plus -4.4700e-01  1.0557e-01  -4.2340 2.298e-05 ***\n",
       "postunemp.t1    -3.3978e-02  2.0469e-02  -1.6600   0.09692 .  \n",
       "postunemp.t2    -5.2206e-02  2.2701e-02  -2.2997   0.02147 *  \n",
       "postunemp.t3     1.0153e-02  2.3896e-02   0.4249   0.67093    \n",
       "postunemp.t4     1.7849e-03  2.5449e-02   0.0701   0.94409    \n",
       "postunemp.t5    -2.7984e-02  2.6952e-02  -1.0383   0.29913    \n",
       "age             -1.1176e-02  8.9352e-04 -12.5081 < 2.2e-16 ***\n",
       "hhincome         1.0552e-05  1.8621e-06   5.6666 1.461e-08 ***\n",
       "---\n",
       "Signif. codes:  0 ‘***’ 0.001 ‘**’ 0.01 ‘*’ 0.05 ‘.’ 0.1 ‘ ’ 1\n",
       "\n",
       "Total Sum of Squares:    77101\n",
       "Residual Sum of Squares: 76731\n",
       "R-Squared:      0.0047985\n",
       "Adj. R-Squared: -0.21548\n",
       "F-statistic: 34.0469 on 14 and 98858 DF, p-value: < 2.22e-16"
      ]
     },
     "metadata": {},
     "output_type": "display_data"
    },
    {
     "data": {
      "image/png": "[encoded data removed]",
      "text/plain": [
       "plot without title"
      ]
     },
     "metadata": {},
     "output_type": "display_data"
    }
   ],
   "source": [
    "adpt.unemp.int.fixed <- plm(lfsato ~ unemp.t_2 + unemp.t_1 + \n",
    "\t\t\tunemp.in.t1 + unemp.in.t2 + unemp.in.t3 + unemp.in.t4 + unemp.in.t5plus +\n",
    "\t\t\tpostunemp.t1 + postunemp.t2 + postunemp.t3  + \n",
    "\t\t\tpostunemp.t4  + postunemp.t5  + \n",
    "\t\t\tage + hhincome,\n",
    "\t\t\tdata, subset = (age<=60),\n",
    "\t\t\tindex = c('id','wave.num'), model = 'within')\n",
    "\n",
    "#Run Hausman test\n",
    "phtest(adpt.unemp.int.fixed, adpt.unemp.int.random)\n",
    "\n",
    "\n",
    "summary(adpt.unemp.int.fixed)\n",
    "\n",
    "\n",
    "coef.adpt.unemp.fixed <- adpt.unemp.int.fixed$coefficients[2:13]\n",
    "\n",
    "\n",
    "par(mfrow=c(1,2))\n",
    "plot(coef.adpt.unemp.random,ylim=c(-0.5,0.1),type='o',xaxt = 'n',xlab='life satisfaction around unemp')\n",
    "abline(h=0,col='red')\n",
    "axis(1,at=c(1,3,8),labels=c('t-2','t(unemp)','t(post.unemp)')) \n",
    "plot(coef.adpt.unemp.fixed,ylim=c(-0.5,0.1),type='o',xaxt = 'n',xlab='life satisfaction around unemp')\n",
    "abline(h=0,col='red')\n",
    "axis(1,at=c(1,3,8),labels=c('t-2','t(unemp)','t(post.unemp)')) "
   ]
  },
  {
   "cell_type": "markdown",
   "metadata": {},
   "source": [
    "# Modelling life satisfaction after unemp (our approach - fixed effect)"
   ]
  },
  {
   "cell_type": "markdown",
   "metadata": {},
   "source": [
    "### We split the respondents into two groups (those who found a job and those who left the paid employment) and see how unemployment influences their life satisfaction.\n",
    "### For those who managed to find a job after unemployment, the data looks like:"
   ]
  },
  {
   "cell_type": "code",
   "execution_count": 109,
   "metadata": {
    "scrolled": true
   },
   "outputs": [
    {
     "data": {
      "text/html": [
       "<table>\n",
       "<thead><tr><th></th><th scope=col>id</th><th scope=col>wave.num</th><th scope=col>emp</th><th scope=col>unemp</th><th scope=col>lfsato</th><th scope=col>unemp.lastyr.each.slot</th><th scope=col>emp.postunemp.in1yr.t1</th><th scope=col>emp.postunemp.in1yr.t2</th><th scope=col>emp.postunemp.in1yr.t3</th><th scope=col>emp.postunemp.in1yr.t4</th><th scope=col>emp.postunemp.in1yr.t5</th></tr></thead>\n",
       "<tbody>\n",
       "\t<tr><th scope=row>3035</th><td>10306838</td><td> 8      </td><td>1       </td><td>0       </td><td> 3      </td><td>0       </td><td>0       </td><td>0       </td><td>0       </td><td>0       </td><td>0       </td></tr>\n",
       "\t<tr><th scope=row>3036</th><td>10306897</td><td> 1      </td><td>0       </td><td>1       </td><td>NA      </td><td>0       </td><td>0       </td><td>0       </td><td>0       </td><td>0       </td><td>0       </td></tr>\n",
       "\t<tr><th scope=row>3037</th><td>10306897</td><td> 2      </td><td>0       </td><td>1       </td><td>NA      </td><td>1       </td><td>0       </td><td>0       </td><td>0       </td><td>0       </td><td>0       </td></tr>\n",
       "\t<tr><th scope=row>3038</th><td>10306897</td><td> 3      </td><td>1       </td><td>0       </td><td>NA      </td><td>0       </td><td>1       </td><td>0       </td><td>0       </td><td>0       </td><td>0       </td></tr>\n",
       "\t<tr><th scope=row>3039</th><td>10306897</td><td> 4      </td><td>1       </td><td>0       </td><td>NA      </td><td>0       </td><td>0       </td><td>1       </td><td>0       </td><td>0       </td><td>0       </td></tr>\n",
       "\t<tr><th scope=row>3040</th><td>10306897</td><td> 5      </td><td>1       </td><td>0       </td><td>NA      </td><td>0       </td><td>0       </td><td>0       </td><td>1       </td><td>0       </td><td>0       </td></tr>\n",
       "\t<tr><th scope=row>3041</th><td>10306897</td><td> 6      </td><td>1       </td><td>0       </td><td> 6      </td><td>0       </td><td>0       </td><td>0       </td><td>0       </td><td>1       </td><td>0       </td></tr>\n",
       "\t<tr><th scope=row>3042</th><td>10306897</td><td> 7      </td><td>1       </td><td>0       </td><td> 5      </td><td>0       </td><td>0       </td><td>0       </td><td>0       </td><td>0       </td><td>1       </td></tr>\n",
       "\t<tr><th scope=row>3043</th><td>10306897</td><td> 8      </td><td>1       </td><td>0       </td><td> 5      </td><td>0       </td><td>0       </td><td>0       </td><td>0       </td><td>0       </td><td>0       </td></tr>\n",
       "\t<tr><th scope=row>3044</th><td>10306897</td><td> 9      </td><td>1       </td><td>0       </td><td> 5      </td><td>0       </td><td>0       </td><td>0       </td><td>0       </td><td>0       </td><td>0       </td></tr>\n",
       "\t<tr><th scope=row>3045</th><td>10306897</td><td>10      </td><td>1       </td><td>0       </td><td> 4      </td><td>0       </td><td>0       </td><td>0       </td><td>0       </td><td>0       </td><td>0       </td></tr>\n",
       "</tbody>\n",
       "</table>\n"
      ],
      "text/latex": [
       "\\begin{tabular}{r|lllllllllll}\n",
       "  & id & wave.num & emp & unemp & lfsato & unemp.lastyr.each.slot & emp.postunemp.in1yr.t1 & emp.postunemp.in1yr.t2 & emp.postunemp.in1yr.t3 & emp.postunemp.in1yr.t4 & emp.postunemp.in1yr.t5\\\\\n",
       "\\hline\n",
       "\t3035 & 10306838 &  8       & 1        & 0        &  3       & 0        & 0        & 0        & 0        & 0        & 0       \\\\\n",
       "\t3036 & 10306897 &  1       & 0        & 1        & NA       & 0        & 0        & 0        & 0        & 0        & 0       \\\\\n",
       "\t3037 & 10306897 &  2       & 0        & 1        & NA       & 1        & 0        & 0        & 0        & 0        & 0       \\\\\n",
       "\t3038 & 10306897 &  3       & 1        & 0        & NA       & 0        & 1        & 0        & 0        & 0        & 0       \\\\\n",
       "\t3039 & 10306897 &  4       & 1        & 0        & NA       & 0        & 0        & 1        & 0        & 0        & 0       \\\\\n",
       "\t3040 & 10306897 &  5       & 1        & 0        & NA       & 0        & 0        & 0        & 1        & 0        & 0       \\\\\n",
       "\t3041 & 10306897 &  6       & 1        & 0        &  6       & 0        & 0        & 0        & 0        & 1        & 0       \\\\\n",
       "\t3042 & 10306897 &  7       & 1        & 0        &  5       & 0        & 0        & 0        & 0        & 0        & 1       \\\\\n",
       "\t3043 & 10306897 &  8       & 1        & 0        &  5       & 0        & 0        & 0        & 0        & 0        & 0       \\\\\n",
       "\t3044 & 10306897 &  9       & 1        & 0        &  5       & 0        & 0        & 0        & 0        & 0        & 0       \\\\\n",
       "\t3045 & 10306897 & 10       & 1        & 0        &  4       & 0        & 0        & 0        & 0        & 0        & 0       \\\\\n",
       "\\end{tabular}\n"
      ],
      "text/markdown": [
       "\n",
       "| <!--/--> | id | wave.num | emp | unemp | lfsato | unemp.lastyr.each.slot | emp.postunemp.in1yr.t1 | emp.postunemp.in1yr.t2 | emp.postunemp.in1yr.t3 | emp.postunemp.in1yr.t4 | emp.postunemp.in1yr.t5 | \n",
       "|---|---|---|---|---|---|---|---|---|---|---|\n",
       "| 3035 | 10306838 |  8       | 1        | 0        |  3       | 0        | 0        | 0        | 0        | 0        | 0        | \n",
       "| 3036 | 10306897 |  1       | 0        | 1        | NA       | 0        | 0        | 0        | 0        | 0        | 0        | \n",
       "| 3037 | 10306897 |  2       | 0        | 1        | NA       | 1        | 0        | 0        | 0        | 0        | 0        | \n",
       "| 3038 | 10306897 |  3       | 1        | 0        | NA       | 0        | 1        | 0        | 0        | 0        | 0        | \n",
       "| 3039 | 10306897 |  4       | 1        | 0        | NA       | 0        | 0        | 1        | 0        | 0        | 0        | \n",
       "| 3040 | 10306897 |  5       | 1        | 0        | NA       | 0        | 0        | 0        | 1        | 0        | 0        | \n",
       "| 3041 | 10306897 |  6       | 1        | 0        |  6       | 0        | 0        | 0        | 0        | 1        | 0        | \n",
       "| 3042 | 10306897 |  7       | 1        | 0        |  5       | 0        | 0        | 0        | 0        | 0        | 1        | \n",
       "| 3043 | 10306897 |  8       | 1        | 0        |  5       | 0        | 0        | 0        | 0        | 0        | 0        | \n",
       "| 3044 | 10306897 |  9       | 1        | 0        |  5       | 0        | 0        | 0        | 0        | 0        | 0        | \n",
       "| 3045 | 10306897 | 10       | 1        | 0        |  4       | 0        | 0        | 0        | 0        | 0        | 0        | \n",
       "\n",
       "\n"
      ],
      "text/plain": [
       "     id       wave.num emp unemp lfsato unemp.lastyr.each.slot\n",
       "3035 10306838  8       1   0      3     0                     \n",
       "3036 10306897  1       0   1     NA     0                     \n",
       "3037 10306897  2       0   1     NA     1                     \n",
       "3038 10306897  3       1   0     NA     0                     \n",
       "3039 10306897  4       1   0     NA     0                     \n",
       "3040 10306897  5       1   0     NA     0                     \n",
       "3041 10306897  6       1   0      6     0                     \n",
       "3042 10306897  7       1   0      5     0                     \n",
       "3043 10306897  8       1   0      5     0                     \n",
       "3044 10306897  9       1   0      5     0                     \n",
       "3045 10306897 10       1   0      4     0                     \n",
       "     emp.postunemp.in1yr.t1 emp.postunemp.in1yr.t2 emp.postunemp.in1yr.t3\n",
       "3035 0                      0                      0                     \n",
       "3036 0                      0                      0                     \n",
       "3037 0                      0                      0                     \n",
       "3038 1                      0                      0                     \n",
       "3039 0                      1                      0                     \n",
       "3040 0                      0                      1                     \n",
       "3041 0                      0                      0                     \n",
       "3042 0                      0                      0                     \n",
       "3043 0                      0                      0                     \n",
       "3044 0                      0                      0                     \n",
       "3045 0                      0                      0                     \n",
       "     emp.postunemp.in1yr.t4 emp.postunemp.in1yr.t5\n",
       "3035 0                      0                     \n",
       "3036 0                      0                     \n",
       "3037 0                      0                     \n",
       "3038 0                      0                     \n",
       "3039 0                      0                     \n",
       "3040 0                      0                     \n",
       "3041 1                      0                     \n",
       "3042 0                      1                     \n",
       "3043 0                      0                     \n",
       "3044 0                      0                     \n",
       "3045 0                      0                     "
      ]
     },
     "metadata": {},
     "output_type": "display_data"
    }
   ],
   "source": [
    "vew <- data[,c('id','wave.num','emp','unemp','lfsato','unemp.lastyr.each.slot',\n",
    "               'emp.postunemp.in1yr.t1','emp.postunemp.in1yr.t2','emp.postunemp.in1yr.t3',\n",
    "               'emp.postunemp.in1yr.t4','emp.postunemp.in1yr.t5')]\n",
    "vew[2605:2615,]"
   ]
  },
  {
   "cell_type": "markdown",
   "metadata": {},
   "source": [
    "### For those who left paid employment after unemployment, the data looks like:"
   ]
  },
  {
   "cell_type": "code",
   "execution_count": 110,
   "metadata": {
    "scrolled": true
   },
   "outputs": [
    {
     "data": {
      "text/html": [
       "<table>\n",
       "<thead><tr><th></th><th scope=col>id</th><th scope=col>wave.num</th><th scope=col>emp</th><th scope=col>unemp</th><th scope=col>lfsato</th><th scope=col>unemp.lastyr.each.slot</th><th scope=col>nonemp.postunemp.in1yr.t1</th><th scope=col>nonemp.postunemp.in1yr.t2</th><th scope=col>nonemp.postunemp.in1yr.t3</th><th scope=col>nonemp.postunemp.in1yr.t4</th><th scope=col>nonemp.postunemp.in1yr.t5</th></tr></thead>\n",
       "<tbody>\n",
       "\t<tr><th scope=row>1826</th><td>10162771</td><td>12      </td><td>1       </td><td>0       </td><td>NA      </td><td>0       </td><td>0       </td><td>0       </td><td>0       </td><td>0       </td><td>0       </td></tr>\n",
       "\t<tr><th scope=row>1827</th><td>10162771</td><td>14      </td><td>0       </td><td>0       </td><td>NA      </td><td>0       </td><td>0       </td><td>0       </td><td>0       </td><td>0       </td><td>0       </td></tr>\n",
       "\t<tr><th scope=row>1828</th><td>10163492</td><td> 1      </td><td>0       </td><td>1       </td><td>NA      </td><td>0       </td><td>0       </td><td>0       </td><td>0       </td><td>0       </td><td>0       </td></tr>\n",
       "\t<tr><th scope=row>1829</th><td>10163492</td><td> 2      </td><td>0       </td><td>1       </td><td>NA      </td><td>1       </td><td>0       </td><td>0       </td><td>0       </td><td>0       </td><td>0       </td></tr>\n",
       "\t<tr><th scope=row>1830</th><td>10163492</td><td> 3      </td><td>0       </td><td>0       </td><td>NA      </td><td>0       </td><td>1       </td><td>0       </td><td>0       </td><td>0       </td><td>0       </td></tr>\n",
       "\t<tr><th scope=row>1831</th><td>10163492</td><td> 4      </td><td>0       </td><td>0       </td><td>NA      </td><td>0       </td><td>0       </td><td>1       </td><td>0       </td><td>0       </td><td>0       </td></tr>\n",
       "\t<tr><th scope=row>1832</th><td>10163492</td><td> 5      </td><td>0       </td><td>0       </td><td>NA      </td><td>0       </td><td>0       </td><td>0       </td><td>1       </td><td>0       </td><td>0       </td></tr>\n",
       "\t<tr><th scope=row>1833</th><td>10163492</td><td> 6      </td><td>1       </td><td>0       </td><td> 3      </td><td>0       </td><td>0       </td><td>0       </td><td>0       </td><td>0       </td><td>0       </td></tr>\n",
       "\t<tr><th scope=row>1834</th><td>10163492</td><td> 7      </td><td>0       </td><td>0       </td><td> 2      </td><td>0       </td><td>0       </td><td>0       </td><td>0       </td><td>0       </td><td>0       </td></tr>\n",
       "\t<tr><th scope=row>1835</th><td>10163492</td><td> 8      </td><td>0       </td><td>0       </td><td> 3      </td><td>0       </td><td>0       </td><td>0       </td><td>0       </td><td>0       </td><td>0       </td></tr>\n",
       "\t<tr><th scope=row>1836</th><td>10163492</td><td> 9      </td><td>0       </td><td>0       </td><td> 2      </td><td>0       </td><td>0       </td><td>0       </td><td>0       </td><td>0       </td><td>0       </td></tr>\n",
       "</tbody>\n",
       "</table>\n"
      ],
      "text/latex": [
       "\\begin{tabular}{r|lllllllllll}\n",
       "  & id & wave.num & emp & unemp & lfsato & unemp.lastyr.each.slot & nonemp.postunemp.in1yr.t1 & nonemp.postunemp.in1yr.t2 & nonemp.postunemp.in1yr.t3 & nonemp.postunemp.in1yr.t4 & nonemp.postunemp.in1yr.t5\\\\\n",
       "\\hline\n",
       "\t1826 & 10162771 & 12       & 1        & 0        & NA       & 0        & 0        & 0        & 0        & 0        & 0       \\\\\n",
       "\t1827 & 10162771 & 14       & 0        & 0        & NA       & 0        & 0        & 0        & 0        & 0        & 0       \\\\\n",
       "\t1828 & 10163492 &  1       & 0        & 1        & NA       & 0        & 0        & 0        & 0        & 0        & 0       \\\\\n",
       "\t1829 & 10163492 &  2       & 0        & 1        & NA       & 1        & 0        & 0        & 0        & 0        & 0       \\\\\n",
       "\t1830 & 10163492 &  3       & 0        & 0        & NA       & 0        & 1        & 0        & 0        & 0        & 0       \\\\\n",
       "\t1831 & 10163492 &  4       & 0        & 0        & NA       & 0        & 0        & 1        & 0        & 0        & 0       \\\\\n",
       "\t1832 & 10163492 &  5       & 0        & 0        & NA       & 0        & 0        & 0        & 1        & 0        & 0       \\\\\n",
       "\t1833 & 10163492 &  6       & 1        & 0        &  3       & 0        & 0        & 0        & 0        & 0        & 0       \\\\\n",
       "\t1834 & 10163492 &  7       & 0        & 0        &  2       & 0        & 0        & 0        & 0        & 0        & 0       \\\\\n",
       "\t1835 & 10163492 &  8       & 0        & 0        &  3       & 0        & 0        & 0        & 0        & 0        & 0       \\\\\n",
       "\t1836 & 10163492 &  9       & 0        & 0        &  2       & 0        & 0        & 0        & 0        & 0        & 0       \\\\\n",
       "\\end{tabular}\n"
      ],
      "text/markdown": [
       "\n",
       "| <!--/--> | id | wave.num | emp | unemp | lfsato | unemp.lastyr.each.slot | nonemp.postunemp.in1yr.t1 | nonemp.postunemp.in1yr.t2 | nonemp.postunemp.in1yr.t3 | nonemp.postunemp.in1yr.t4 | nonemp.postunemp.in1yr.t5 | \n",
       "|---|---|---|---|---|---|---|---|---|---|---|\n",
       "| 1826 | 10162771 | 12       | 1        | 0        | NA       | 0        | 0        | 0        | 0        | 0        | 0        | \n",
       "| 1827 | 10162771 | 14       | 0        | 0        | NA       | 0        | 0        | 0        | 0        | 0        | 0        | \n",
       "| 1828 | 10163492 |  1       | 0        | 1        | NA       | 0        | 0        | 0        | 0        | 0        | 0        | \n",
       "| 1829 | 10163492 |  2       | 0        | 1        | NA       | 1        | 0        | 0        | 0        | 0        | 0        | \n",
       "| 1830 | 10163492 |  3       | 0        | 0        | NA       | 0        | 1        | 0        | 0        | 0        | 0        | \n",
       "| 1831 | 10163492 |  4       | 0        | 0        | NA       | 0        | 0        | 1        | 0        | 0        | 0        | \n",
       "| 1832 | 10163492 |  5       | 0        | 0        | NA       | 0        | 0        | 0        | 1        | 0        | 0        | \n",
       "| 1833 | 10163492 |  6       | 1        | 0        |  3       | 0        | 0        | 0        | 0        | 0        | 0        | \n",
       "| 1834 | 10163492 |  7       | 0        | 0        |  2       | 0        | 0        | 0        | 0        | 0        | 0        | \n",
       "| 1835 | 10163492 |  8       | 0        | 0        |  3       | 0        | 0        | 0        | 0        | 0        | 0        | \n",
       "| 1836 | 10163492 |  9       | 0        | 0        |  2       | 0        | 0        | 0        | 0        | 0        | 0        | \n",
       "\n",
       "\n"
      ],
      "text/plain": [
       "     id       wave.num emp unemp lfsato unemp.lastyr.each.slot\n",
       "1826 10162771 12       1   0     NA     0                     \n",
       "1827 10162771 14       0   0     NA     0                     \n",
       "1828 10163492  1       0   1     NA     0                     \n",
       "1829 10163492  2       0   1     NA     1                     \n",
       "1830 10163492  3       0   0     NA     0                     \n",
       "1831 10163492  4       0   0     NA     0                     \n",
       "1832 10163492  5       0   0     NA     0                     \n",
       "1833 10163492  6       1   0      3     0                     \n",
       "1834 10163492  7       0   0      2     0                     \n",
       "1835 10163492  8       0   0      3     0                     \n",
       "1836 10163492  9       0   0      2     0                     \n",
       "     nonemp.postunemp.in1yr.t1 nonemp.postunemp.in1yr.t2\n",
       "1826 0                         0                        \n",
       "1827 0                         0                        \n",
       "1828 0                         0                        \n",
       "1829 0                         0                        \n",
       "1830 1                         0                        \n",
       "1831 0                         1                        \n",
       "1832 0                         0                        \n",
       "1833 0                         0                        \n",
       "1834 0                         0                        \n",
       "1835 0                         0                        \n",
       "1836 0                         0                        \n",
       "     nonemp.postunemp.in1yr.t3 nonemp.postunemp.in1yr.t4\n",
       "1826 0                         0                        \n",
       "1827 0                         0                        \n",
       "1828 0                         0                        \n",
       "1829 0                         0                        \n",
       "1830 0                         0                        \n",
       "1831 0                         0                        \n",
       "1832 1                         0                        \n",
       "1833 0                         0                        \n",
       "1834 0                         0                        \n",
       "1835 0                         0                        \n",
       "1836 0                         0                        \n",
       "     nonemp.postunemp.in1yr.t5\n",
       "1826 0                        \n",
       "1827 0                        \n",
       "1828 0                        \n",
       "1829 0                        \n",
       "1830 0                        \n",
       "1831 0                        \n",
       "1832 0                        \n",
       "1833 0                        \n",
       "1834 0                        \n",
       "1835 0                        \n",
       "1836 0                        "
      ]
     },
     "metadata": {},
     "output_type": "display_data"
    }
   ],
   "source": [
    "vew <- data[,c('id','wave.num','emp','unemp','lfsato','unemp.lastyr.each.slot',\n",
    "               'nonemp.postunemp.in1yr.t1','nonemp.postunemp.in1yr.t2','nonemp.postunemp.in1yr.t3',\n",
    "               'nonemp.postunemp.in1yr.t4','nonemp.postunemp.in1yr.t5')]\n",
    "vew[1575:1585,]"
   ]
  },
  {
   "cell_type": "markdown",
   "metadata": {},
   "source": [
    "## Life satisfation after unemployment (fixed effect) - found a job"
   ]
  },
  {
   "cell_type": "markdown",
   "metadata": {},
   "source": [
    "### Descriptive statistics"
   ]
  },
  {
   "cell_type": "code",
   "execution_count": 23,
   "metadata": {},
   "outputs": [
    {
     "name": "stdout",
     "output_type": "stream",
     "text": [
      "[1] \"Overall\"\n"
     ]
    },
    {
     "data": {
      "text/html": [
       "<dl class=dl-horizontal>\n",
       "\t<dt>last year in unemp</dt>\n",
       "\t\t<dd>2270</dd>\n",
       "\t<dt>emp.postunemp.in1yr.t2</dt>\n",
       "\t\t<dd>1522</dd>\n",
       "\t<dt>emp.postunemp.in1yr.t3</dt>\n",
       "\t\t<dd>1133</dd>\n",
       "\t<dt>emp.postunemp.in1yr.t4</dt>\n",
       "\t\t<dd>860</dd>\n",
       "\t<dt>emp.postunemp.in1yr.t5</dt>\n",
       "\t\t<dd>678</dd>\n",
       "</dl>\n"
      ],
      "text/latex": [
       "\\begin{description*}\n",
       "\\item[last year in unemp] 2270\n",
       "\\item[emp.postunemp.in1yr.t2] 1522\n",
       "\\item[emp.postunemp.in1yr.t3] 1133\n",
       "\\item[emp.postunemp.in1yr.t4] 860\n",
       "\\item[emp.postunemp.in1yr.t5] 678\n",
       "\\end{description*}\n"
      ],
      "text/markdown": [
       "last year in unemp\n",
       ":   2270emp.postunemp.in1yr.t2\n",
       ":   1522emp.postunemp.in1yr.t3\n",
       ":   1133emp.postunemp.in1yr.t4\n",
       ":   860emp.postunemp.in1yr.t5\n",
       ":   678\n",
       "\n"
      ],
      "text/plain": [
       "    last year in unemp emp.postunemp.in1yr.t2 emp.postunemp.in1yr.t3 \n",
       "                  2270                   1522                   1133 \n",
       "emp.postunemp.in1yr.t4 emp.postunemp.in1yr.t5 \n",
       "                   860                    678 "
      ]
     },
     "metadata": {},
     "output_type": "display_data"
    },
    {
     "data": {
      "text/html": [
       "<dl class=dl-horizontal>\n",
       "\t<dt>n (respondents)</dt>\n",
       "\t\t<dd>'20967'</dd>\n",
       "\t<dt>T (waves)</dt>\n",
       "\t\t<dd>'1-11'</dd>\n",
       "\t<dt>N (observations)</dt>\n",
       "\t\t<dd>'108227'</dd>\n",
       "</dl>\n"
      ],
      "text/latex": [
       "\\begin{description*}\n",
       "\\item[n (respondents)] '20967'\n",
       "\\item[T (waves)] '1-11'\n",
       "\\item[N (observations)] '108227'\n",
       "\\end{description*}\n"
      ],
      "text/markdown": [
       "n (respondents)\n",
       ":   '20967'T (waves)\n",
       ":   '1-11'N (observations)\n",
       ":   '108227'\n",
       "\n"
      ],
      "text/plain": [
       " n (respondents)        T (waves) N (observations) \n",
       "         \"20967\"           \"1-11\"         \"108227\" "
      ]
     },
     "metadata": {},
     "output_type": "display_data"
    },
    {
     "data": {
      "text/plain": [
       " emp.postunemp.in1yr.t1 emp.postunemp.in1yr.t2 emp.postunemp.in1yr.t3\n",
       " Min.   :0.00000        Min.   :0.000000       Min.   :0.000000      \n",
       " 1st Qu.:0.00000        1st Qu.:0.000000       1st Qu.:0.000000      \n",
       " Median :0.00000        Median :0.000000       Median :0.000000      \n",
       " Mean   :0.01153        Mean   :0.007733       Mean   :0.005756      \n",
       " 3rd Qu.:0.00000        3rd Qu.:0.000000       3rd Qu.:0.000000      \n",
       " Max.   :1.00000        Max.   :1.000000       Max.   :1.000000      \n",
       " emp.postunemp.in1yr.t4 emp.postunemp.in1yr.t5\n",
       " Min.   :0.000000       Min.   :0.000000      \n",
       " 1st Qu.:0.000000       1st Qu.:0.000000      \n",
       " Median :0.000000       Median :0.000000      \n",
       " Mean   :0.004369       Mean   :0.003445      \n",
       " 3rd Qu.:0.000000       3rd Qu.:0.000000      \n",
       " Max.   :1.000000       Max.   :1.000000      "
      ]
     },
     "metadata": {},
     "output_type": "display_data"
    },
    {
     "data": {
      "text/html": [
       "<ol class=list-inline>\n",
       "\t<li>196828</li>\n",
       "\t<li>5</li>\n",
       "</ol>\n"
      ],
      "text/latex": [
       "\\begin{enumerate*}\n",
       "\\item 196828\n",
       "\\item 5\n",
       "\\end{enumerate*}\n"
      ],
      "text/markdown": [
       "1. 196828\n",
       "2. 5\n",
       "\n",
       "\n"
      ],
      "text/plain": [
       "[1] 196828      5"
      ]
     },
     "metadata": {},
     "output_type": "display_data"
    },
    {
     "data": {
      "text/plain": [
       "   Min. 1st Qu.  Median    Mean 3rd Qu.    Max.    NA's \n",
       "  1.000   1.000   2.000   1.531   2.000   2.000    1779 "
      ]
     },
     "metadata": {},
     "output_type": "display_data"
    },
    {
     "name": "stdout",
     "output_type": "stream",
     "text": [
      "[1] \"Male\"\n"
     ]
    },
    {
     "data": {
      "text/html": [
       "<dl class=dl-horizontal>\n",
       "\t<dt>last year in unemp</dt>\n",
       "\t\t<dd>1358</dd>\n",
       "\t<dt>emp.postunemp.in1yr.t2</dt>\n",
       "\t\t<dd>892</dd>\n",
       "\t<dt>emp.postunemp.in1yr.t3</dt>\n",
       "\t\t<dd>673</dd>\n",
       "\t<dt>emp.postunemp.in1yr.t4</dt>\n",
       "\t\t<dd>525</dd>\n",
       "\t<dt>emp.postunemp.in1yr.t5</dt>\n",
       "\t\t<dd>421</dd>\n",
       "</dl>\n"
      ],
      "text/latex": [
       "\\begin{description*}\n",
       "\\item[last year in unemp] 1358\n",
       "\\item[emp.postunemp.in1yr.t2] 892\n",
       "\\item[emp.postunemp.in1yr.t3] 673\n",
       "\\item[emp.postunemp.in1yr.t4] 525\n",
       "\\item[emp.postunemp.in1yr.t5] 421\n",
       "\\end{description*}\n"
      ],
      "text/markdown": [
       "last year in unemp\n",
       ":   1358emp.postunemp.in1yr.t2\n",
       ":   892emp.postunemp.in1yr.t3\n",
       ":   673emp.postunemp.in1yr.t4\n",
       ":   525emp.postunemp.in1yr.t5\n",
       ":   421\n",
       "\n"
      ],
      "text/plain": [
       "    last year in unemp emp.postunemp.in1yr.t2 emp.postunemp.in1yr.t3 \n",
       "                  1358                    892                    673 \n",
       "emp.postunemp.in1yr.t4 emp.postunemp.in1yr.t5 \n",
       "                   525                    421 "
      ]
     },
     "metadata": {},
     "output_type": "display_data"
    },
    {
     "data": {
      "text/html": [
       "<dl class=dl-horizontal>\n",
       "\t<dt>n (respondents)</dt>\n",
       "\t\t<dd>'9915'</dd>\n",
       "\t<dt>T (waves)</dt>\n",
       "\t\t<dd>'1-11'</dd>\n",
       "\t<dt>N (observations)</dt>\n",
       "\t\t<dd>'49742'</dd>\n",
       "</dl>\n"
      ],
      "text/latex": [
       "\\begin{description*}\n",
       "\\item[n (respondents)] '9915'\n",
       "\\item[T (waves)] '1-11'\n",
       "\\item[N (observations)] '49742'\n",
       "\\end{description*}\n"
      ],
      "text/markdown": [
       "n (respondents)\n",
       ":   '9915'T (waves)\n",
       ":   '1-11'N (observations)\n",
       ":   '49742'\n",
       "\n"
      ],
      "text/plain": [
       " n (respondents)        T (waves) N (observations) \n",
       "          \"9915\"           \"1-11\"          \"49742\" "
      ]
     },
     "metadata": {},
     "output_type": "display_data"
    },
    {
     "data": {
      "text/plain": [
       " emp.postunemp.in1yr.t1 emp.postunemp.in1yr.t2 emp.postunemp.in1yr.t3\n",
       " Min.   :0.0000         Min.   :0.0000         Min.   :0.0000        \n",
       " 1st Qu.:0.0000         1st Qu.:0.0000         1st Qu.:0.0000        \n",
       " Median :0.0000         Median :0.0000         Median :0.0000        \n",
       " Mean   :0.0148         Mean   :0.0097         Mean   :0.0074        \n",
       " 3rd Qu.:0.0000         3rd Qu.:0.0000         3rd Qu.:0.0000        \n",
       " Max.   :1.0000         Max.   :1.0000         Max.   :1.0000        \n",
       " NA's   :1779           NA's   :1779           NA's   :1779          \n",
       " emp.postunemp.in1yr.t4 emp.postunemp.in1yr.t5\n",
       " Min.   :0.0000         Min.   :0.0000        \n",
       " 1st Qu.:0.0000         1st Qu.:0.0000        \n",
       " Median :0.0000         Median :0.0000        \n",
       " Mean   :0.0057         Mean   :0.0046        \n",
       " 3rd Qu.:0.0000         3rd Qu.:0.0000        \n",
       " Max.   :1.0000         Max.   :1.0000        \n",
       " NA's   :1779           NA's   :1779          "
      ]
     },
     "metadata": {},
     "output_type": "display_data"
    },
    {
     "data": {
      "text/html": [
       "<ol class=list-inline>\n",
       "\t<li>93321</li>\n",
       "\t<li>5</li>\n",
       "</ol>\n"
      ],
      "text/latex": [
       "\\begin{enumerate*}\n",
       "\\item 93321\n",
       "\\item 5\n",
       "\\end{enumerate*}\n"
      ],
      "text/markdown": [
       "1. 93321\n",
       "2. 5\n",
       "\n",
       "\n"
      ],
      "text/plain": [
       "[1] 93321     5"
      ]
     },
     "metadata": {},
     "output_type": "display_data"
    },
    {
     "name": "stdout",
     "output_type": "stream",
     "text": [
      "[1] \"Female\"\n"
     ]
    },
    {
     "data": {
      "text/html": [
       "<dl class=dl-horizontal>\n",
       "\t<dt>last year in unemp</dt>\n",
       "\t\t<dd>898</dd>\n",
       "\t<dt>emp.postunemp.in1yr.t2</dt>\n",
       "\t\t<dd>622</dd>\n",
       "\t<dt>emp.postunemp.in1yr.t3</dt>\n",
       "\t\t<dd>451</dd>\n",
       "\t<dt>emp.postunemp.in1yr.t4</dt>\n",
       "\t\t<dd>332</dd>\n",
       "\t<dt>emp.postunemp.in1yr.t5</dt>\n",
       "\t\t<dd>252</dd>\n",
       "</dl>\n"
      ],
      "text/latex": [
       "\\begin{description*}\n",
       "\\item[last year in unemp] 898\n",
       "\\item[emp.postunemp.in1yr.t2] 622\n",
       "\\item[emp.postunemp.in1yr.t3] 451\n",
       "\\item[emp.postunemp.in1yr.t4] 332\n",
       "\\item[emp.postunemp.in1yr.t5] 252\n",
       "\\end{description*}\n"
      ],
      "text/markdown": [
       "last year in unemp\n",
       ":   898emp.postunemp.in1yr.t2\n",
       ":   622emp.postunemp.in1yr.t3\n",
       ":   451emp.postunemp.in1yr.t4\n",
       ":   332emp.postunemp.in1yr.t5\n",
       ":   252\n",
       "\n"
      ],
      "text/plain": [
       "    last year in unemp emp.postunemp.in1yr.t2 emp.postunemp.in1yr.t3 \n",
       "                   898                    622                    451 \n",
       "emp.postunemp.in1yr.t4 emp.postunemp.in1yr.t5 \n",
       "                   332                    252 "
      ]
     },
     "metadata": {},
     "output_type": "display_data"
    },
    {
     "data": {
      "text/html": [
       "<dl class=dl-horizontal>\n",
       "\t<dt>n (respondents)</dt>\n",
       "\t\t<dd>'11052'</dd>\n",
       "\t<dt>T (waves)</dt>\n",
       "\t\t<dd>'1-11'</dd>\n",
       "\t<dt>N (observations)</dt>\n",
       "\t\t<dd>'58485'</dd>\n",
       "</dl>\n"
      ],
      "text/latex": [
       "\\begin{description*}\n",
       "\\item[n (respondents)] '11052'\n",
       "\\item[T (waves)] '1-11'\n",
       "\\item[N (observations)] '58485'\n",
       "\\end{description*}\n"
      ],
      "text/markdown": [
       "n (respondents)\n",
       ":   '11052'T (waves)\n",
       ":   '1-11'N (observations)\n",
       ":   '58485'\n",
       "\n"
      ],
      "text/plain": [
       " n (respondents)        T (waves) N (observations) \n",
       "         \"11052\"           \"1-11\"          \"58485\" "
      ]
     },
     "metadata": {},
     "output_type": "display_data"
    },
    {
     "data": {
      "text/plain": [
       " emp.postunemp.in1yr.t1 emp.postunemp.in1yr.t2 emp.postunemp.in1yr.t3\n",
       " Min.   :0.0000         Min.   :0.000          Min.   :0.0000        \n",
       " 1st Qu.:0.0000         1st Qu.:0.000          1st Qu.:0.0000        \n",
       " Median :0.0000         Median :0.000          Median :0.0000        \n",
       " Mean   :0.0087         Mean   :0.006          Mean   :0.0044        \n",
       " 3rd Qu.:0.0000         3rd Qu.:0.000          3rd Qu.:0.0000        \n",
       " Max.   :1.0000         Max.   :1.000          Max.   :1.0000        \n",
       " NA's   :1779           NA's   :1779           NA's   :1779          \n",
       " emp.postunemp.in1yr.t4 emp.postunemp.in1yr.t5\n",
       " Min.   :0.0000         Min.   :0.0000        \n",
       " 1st Qu.:0.0000         1st Qu.:0.0000        \n",
       " Median :0.0000         Median :0.0000        \n",
       " Mean   :0.0032         Mean   :0.0024        \n",
       " 3rd Qu.:0.0000         3rd Qu.:0.0000        \n",
       " Max.   :1.0000         Max.   :1.0000        \n",
       " NA's   :1779           NA's   :1779          "
      ]
     },
     "metadata": {},
     "output_type": "display_data"
    },
    {
     "data": {
      "text/html": [
       "<ol class=list-inline>\n",
       "\t<li>105286</li>\n",
       "\t<li>5</li>\n",
       "</ol>\n"
      ],
      "text/latex": [
       "\\begin{enumerate*}\n",
       "\\item 105286\n",
       "\\item 5\n",
       "\\end{enumerate*}\n"
      ],
      "text/markdown": [
       "1. 105286\n",
       "2. 5\n",
       "\n",
       "\n"
      ],
      "text/plain": [
       "[1] 105286      5"
      ]
     },
     "metadata": {},
     "output_type": "display_data"
    }
   ],
   "source": [
    "des <- data[,c('emp.postunemp.in1yr.t1','emp.postunemp.in1yr.t2','emp.postunemp.in1yr.t3','emp.postunemp.in1yr.t4','emp.postunemp.in1yr.t5')]\n",
    "s <- sapply(des,sum)\n",
    "names(s)[1] <- 'last year in unemp'\n",
    "d.s <- c(20967,'1-11',108227)\n",
    "names(d.s) <- c('n (respondents)','T (waves)','N (observations)')\n",
    "print('Overall')\n",
    "s\n",
    "d.s\n",
    "summary(des)\n",
    "dim(des)\n",
    "summary(data$sex)\n",
    "\n",
    "des <- data[data$sex==1,c('emp.postunemp.in1yr.t1','emp.postunemp.in1yr.t2','emp.postunemp.in1yr.t3','emp.postunemp.in1yr.t4','emp.postunemp.in1yr.t5')]\n",
    "s <- sapply(des,sum,na.rm=T)\n",
    "names(s)[1] <- 'last year in unemp'\n",
    "d.s <- c(9915,'1-11',49742)\n",
    "names(d.s) <- c('n (respondents)','T (waves)','N (observations)')\n",
    "print('Male')\n",
    "s\n",
    "d.s\n",
    "summary(des)\n",
    "dim(des)\n",
    "\n",
    "des <- data[data$sex==2,c('emp.postunemp.in1yr.t1','emp.postunemp.in1yr.t2','emp.postunemp.in1yr.t3','emp.postunemp.in1yr.t4','emp.postunemp.in1yr.t5')]\n",
    "s <- sapply(des,sum,na.rm=T)\n",
    "names(s)[1] <- 'last year in unemp'\n",
    "d.s <- c(11052,'1-11',58485)\n",
    "names(d.s) <- c('n (respondents)','T (waves)','N (observations)')\n",
    "print('Female')\n",
    "s\n",
    "d.s\n",
    "summary(des)\n",
    "dim(des)"
   ]
  },
  {
   "cell_type": "markdown",
   "metadata": {},
   "source": [
    "### Model outputs\n",
    "- Instead of scarring effects, we've found **boosting** effects!\n",
    " - In the year they found the job, there is a surge in life satisfaction (which is expected)!\n",
    " - In the following year, life satisfaction drops back. \n",
    " - This is similar to the honey moon-hangover effect in job switiching. \n",
    " - After that, life is all good again (oh yeah)!\n",
    "- The boosting effects only exist in the male sample, though."
   ]
  },
  {
   "cell_type": "code",
   "execution_count": 24,
   "metadata": {},
   "outputs": [
    {
     "data": {
      "text/plain": [
       "Oneway (individual) effect Within Model\n",
       "\n",
       "Call:\n",
       "plm(formula = lfsato ~ unemp.lastyr.each.slot + emp.postunemp.in1yr.t1 + \n",
       "    emp.postunemp.in1yr.t2 + emp.postunemp.in1yr.t3 + emp.postunemp.in1yr.t4 + \n",
       "    emp.postunemp.in1yr.t5 + age + I(age^2) + as.factor(academic) + \n",
       "    hhincome + couple + nchild + health, data = data, subset = (age <= \n",
       "    60), model = \"within\", index = c(\"id\", \"wave.num\"))\n",
       "\n",
       "Unbalanced Panel: n=20967, T=1-11, N=108227\n",
       "\n",
       "Residuals :\n",
       "    Min.  1st Qu.   Median  3rd Qu.     Max. \n",
       "-5.40000 -0.39200  0.00627  0.44600  4.57000 \n",
       "\n",
       "Coefficients :\n",
       "                          Estimate  Std. Error  t-value  Pr(>|t|)    \n",
       "unemp.lastyr.each.slot -2.1907e-01  2.1010e-02 -10.4271 < 2.2e-16 ***\n",
       "emp.postunemp.in1yr.t1  1.0066e-01  2.7611e-02   3.6458 0.0002668 ***\n",
       "emp.postunemp.in1yr.t2  2.1025e-02  3.1597e-02   0.6654 0.5057851    \n",
       "emp.postunemp.in1yr.t3  8.7297e-02  3.4967e-02   2.4966 0.0125415 *  \n",
       "emp.postunemp.in1yr.t4  8.1617e-02  3.8416e-02   2.1246 0.0336254 *  \n",
       "emp.postunemp.in1yr.t5  6.1468e-02  4.1725e-02   1.4732 0.1407042    \n",
       "age                    -5.5012e-02  3.7992e-03 -14.4797 < 2.2e-16 ***\n",
       "I(age^2)                5.6408e-04  4.6560e-05  12.1151 < 2.2e-16 ***\n",
       "as.factor(academic)2   -9.4029e-02  5.5021e-02  -1.7090 0.0874590 .  \n",
       "as.factor(academic)3   -6.0117e-02  6.8384e-02  -0.8791 0.3793386    \n",
       "as.factor(academic)4   -5.6267e-02  5.6813e-02  -0.9904 0.3219851    \n",
       "as.factor(academic)5   -8.1033e-02  5.9793e-02  -1.3552 0.1753505    \n",
       "as.factor(academic)6   -1.5451e-01  9.2209e-02  -1.6757 0.0938092 .  \n",
       "as.factor(academic)7   -1.7358e-01  7.4558e-02  -2.3281 0.0199077 *  \n",
       "hhincome                8.1687e-06  1.9651e-06   4.1570 3.228e-05 ***\n",
       "couple                  2.3261e-01  1.3285e-02  17.5093 < 2.2e-16 ***\n",
       "nchild                  4.7372e-03  6.1644e-03   0.7685 0.4422075    \n",
       "health                  2.2895e-01  4.6135e-03  49.6251 < 2.2e-16 ***\n",
       "---\n",
       "Signif. codes:  0 ‘***’ 0.001 ‘**’ 0.01 ‘*’ 0.05 ‘.’ 0.1 ‘ ’ 1\n",
       "\n",
       "Total Sum of Squares:    67229\n",
       "Residual Sum of Squares: 64886\n",
       "R-Squared:      0.034846\n",
       "Adj. R-Squared: -0.1973\n",
       "F-statistic: 174.991 on 18 and 87242 DF, p-value: < 2.22e-16"
      ]
     },
     "metadata": {},
     "output_type": "display_data"
    },
    {
     "data": {
      "text/plain": [
       "Oneway (individual) effect Within Model\n",
       "\n",
       "Call:\n",
       "plm(formula = lfsato ~ unemp.lastyr.each.slot + emp.postunemp.in1yr.t1 + \n",
       "    emp.postunemp.in1yr.t2 + emp.postunemp.in1yr.t3 + emp.postunemp.in1yr.t4 + \n",
       "    emp.postunemp.in1yr.t5 + age + I(age^2) + as.factor(academic) + \n",
       "    hhincome + couple + nchild + health, data = data, subset = (sex == \n",
       "    1 & age <= 60), model = \"within\", index = c(\"id\", \"wave.num\"))\n",
       "\n",
       "Unbalanced Panel: n=9915, T=1-11, N=49742\n",
       "\n",
       "Residuals :\n",
       "    Min.  1st Qu.   Median  3rd Qu.     Max. \n",
       "-5.12000 -0.37700  0.00475  0.42800  4.53000 \n",
       "\n",
       "Coefficients :\n",
       "                          Estimate  Std. Error  t-value  Pr(>|t|)    \n",
       "unemp.lastyr.each.slot -2.1111e-01  2.8860e-02  -7.3150 2.622e-13 ***\n",
       "emp.postunemp.in1yr.t1  1.4227e-01  3.5554e-02   4.0016 6.303e-05 ***\n",
       "emp.postunemp.in1yr.t2  1.3024e-02  4.0598e-02   0.3208   0.74837    \n",
       "emp.postunemp.in1yr.t3  8.2539e-02  4.4783e-02   1.8431   0.06532 .  \n",
       "emp.postunemp.in1yr.t4  8.1873e-02  4.7662e-02   1.7178   0.08584 .  \n",
       "emp.postunemp.in1yr.t5  3.3238e-02  5.1744e-02   0.6424   0.52064    \n",
       "age                    -6.4681e-02  5.4142e-03 -11.9466 < 2.2e-16 ***\n",
       "I(age^2)                6.6591e-04  6.6196e-05  10.0595 < 2.2e-16 ***\n",
       "as.factor(academic)2   -1.5008e-01  7.5901e-02  -1.9774   0.04801 *  \n",
       "as.factor(academic)3   -1.1588e-01  9.6856e-02  -1.1965   0.23153    \n",
       "as.factor(academic)4   -3.0946e-02  7.7997e-02  -0.3968   0.69155    \n",
       "as.factor(academic)5    2.4861e-02  8.3835e-02   0.2965   0.76682    \n",
       "as.factor(academic)6    5.5210e-02  1.2932e-01   0.4269   0.66945    \n",
       "as.factor(academic)7   -2.2009e-01  1.0645e-01  -2.0675   0.03869 *  \n",
       "hhincome                1.3911e-05  2.7364e-06   5.0836 3.719e-07 ***\n",
       "couple                  2.4282e-01  2.0441e-02  11.8788 < 2.2e-16 ***\n",
       "nchild                  1.2388e-02  8.7628e-03   1.4136   0.15748    \n",
       "health                  2.2611e-01  6.8124e-03  33.1908 < 2.2e-16 ***\n",
       "---\n",
       "Signif. codes:  0 ‘***’ 0.001 ‘**’ 0.01 ‘*’ 0.05 ‘.’ 0.1 ‘ ’ 1\n",
       "\n",
       "Total Sum of Squares:    28636\n",
       "Residual Sum of Squares: 27566\n",
       "R-Squared:      0.037357\n",
       "Adj. R-Squared: -0.20281\n",
       "F-statistic: 85.8256 on 18 and 39809 DF, p-value: < 2.22e-16"
      ]
     },
     "metadata": {},
     "output_type": "display_data"
    },
    {
     "data": {
      "text/plain": [
       "Oneway (individual) effect Within Model\n",
       "\n",
       "Call:\n",
       "plm(formula = lfsato ~ unemp.lastyr.each.slot + emp.postunemp.in1yr.t1 + \n",
       "    emp.postunemp.in1yr.t2 + emp.postunemp.in1yr.t3 + emp.postunemp.in1yr.t4 + \n",
       "    emp.postunemp.in1yr.t5 + age + I(age^2) + as.factor(academic) + \n",
       "    hhincome + couple + nchild + health, data = data, subset = (sex == \n",
       "    2 & age <= 60), model = \"within\", index = c(\"id\", \"wave.num\"))\n",
       "\n",
       "Unbalanced Panel: n=11052, T=1-11, N=58485\n",
       "\n",
       "Residuals :\n",
       "    Min.  1st Qu.   Median  3rd Qu.     Max. \n",
       "-5.40000 -0.40700  0.00685  0.46100  4.59000 \n",
       "\n",
       "Coefficients :\n",
       "                          Estimate  Std. Error t-value  Pr(>|t|)    \n",
       "unemp.lastyr.each.slot -2.2393e-01  3.0387e-02 -7.3694 1.741e-13 ***\n",
       "emp.postunemp.in1yr.t1  4.8638e-02  4.2997e-02  1.1312   0.25798    \n",
       "emp.postunemp.in1yr.t2  3.4956e-02  4.9318e-02  0.7088   0.47846    \n",
       "emp.postunemp.in1yr.t3  9.8471e-02  5.4754e-02  1.7984   0.07212 .  \n",
       "emp.postunemp.in1yr.t4  8.5801e-02  6.2953e-02  1.3629   0.17291    \n",
       "emp.postunemp.in1yr.t5  1.0962e-01  6.8385e-02  1.6029   0.10896    \n",
       "age                    -4.5843e-02  5.3248e-03 -8.6093 < 2.2e-16 ***\n",
       "I(age^2)                4.6393e-04  6.5361e-05  7.0980 1.283e-12 ***\n",
       "as.factor(academic)2   -6.3283e-02  7.9502e-02 -0.7960   0.42604    \n",
       "as.factor(academic)3   -2.7057e-03  9.6360e-02 -0.0281   0.97760    \n",
       "as.factor(academic)4   -6.9977e-02  8.2414e-02 -0.8491   0.39584    \n",
       "as.factor(academic)5   -1.4668e-01  8.5450e-02 -1.7166   0.08607 .  \n",
       "as.factor(academic)6   -3.2854e-01  1.3112e-01 -2.5056   0.01223 *  \n",
       "as.factor(academic)7   -1.4588e-01  1.0484e-01 -1.3915   0.16408    \n",
       "hhincome                2.9423e-06  2.8063e-06  1.0485   0.29443    \n",
       "couple                  2.2719e-01  1.7673e-02 12.8553 < 2.2e-16 ***\n",
       "nchild                 -3.3317e-03  8.7251e-03 -0.3818   0.70258    \n",
       "health                  2.3083e-01  6.2688e-03 36.8221 < 2.2e-16 ***\n",
       "---\n",
       "Signif. codes:  0 ‘***’ 0.001 ‘**’ 0.01 ‘*’ 0.05 ‘.’ 0.1 ‘ ’ 1\n",
       "\n",
       "Total Sum of Squares:    38593\n",
       "Residual Sum of Squares: 37282\n",
       "R-Squared:      0.033968\n",
       "Adj. R-Squared: -0.19155\n",
       "F-statistic: 92.6223 on 18 and 47415 DF, p-value: < 2.22e-16"
      ]
     },
     "metadata": {},
     "output_type": "display_data"
    }
   ],
   "source": [
    "## Life satisfation after unemployment (fixed effect) - found a job\n",
    "## adpt post unemp - employed - within ##\n",
    "\n",
    "## employed within t1 ##\n",
    "# overall #\n",
    "\n",
    "adpt.unemp.int <- plm(lfsato ~ unemp.lastyr.each.slot + \n",
    "\t\t\temp.postunemp.in1yr.t1 + emp.postunemp.in1yr.t2 + emp.postunemp.in1yr.t3 + emp.postunemp.in1yr.t4 + emp.postunemp.in1yr.t5 + \n",
    "\t\t\tage + I(age^2) + as.factor(academic) +\n",
    "\t\t\thhincome + couple + nchild + health ,\n",
    "\t\t\tdata, subset = (age <=60),\n",
    "\t\t\tindex = c('id','wave.num'), model = 'within')\n",
    "summary(adpt.unemp.int)\n",
    "coef.adpt.unemp <- adpt.unemp.int$coefficients[1:6]\n",
    "\n",
    "# by sex #\n",
    "\n",
    "adpt.unemp.int <- plm(lfsato ~ unemp.lastyr.each.slot + \n",
    " \t\t\temp.postunemp.in1yr.t1 + emp.postunemp.in1yr.t2 + emp.postunemp.in1yr.t3 + emp.postunemp.in1yr.t4 + emp.postunemp.in1yr.t5 + \n",
    "\t\t\tage + I(age^2) + as.factor(academic) +\n",
    "\t\t\thhincome + couple + nchild + health ,\n",
    "\t\t\tdata, subset = (sex==1 & age <=60), # sex=male\n",
    "\t\t\tindex = c('id','wave.num'), model = 'within')\n",
    "summary(adpt.unemp.int)\n",
    "coef.adpt.unemp.m <- adpt.unemp.int$coefficients[1:6]\n",
    "\n",
    "\n",
    "adpt.unemp.int <- plm(lfsato ~ unemp.lastyr.each.slot + \n",
    " \t\t\temp.postunemp.in1yr.t1 + emp.postunemp.in1yr.t2 + emp.postunemp.in1yr.t3 + emp.postunemp.in1yr.t4 + emp.postunemp.in1yr.t5 + \n",
    "\t\t\tage + I(age^2) + as.factor(academic) +\n",
    "\t\t\thhincome + couple + nchild + health ,\n",
    "\t\t\tdata, subset = (sex==2 & age <=60), # sex=female\n",
    "\t\t\tindex = c('id','wave.num'), model = 'within')\n",
    "summary(adpt.unemp.int)\n",
    "coef.adpt.unemp.f <- adpt.unemp.int$coefficients[1:6]"
   ]
  },
  {
   "cell_type": "code",
   "execution_count": 25,
   "metadata": {},
   "outputs": [
    {
     "data": {
      "image/png": "[encoded data removed]",
      "text/plain": [
       "plot without title"
      ]
     },
     "metadata": {},
     "output_type": "display_data"
    }
   ],
   "source": [
    "# plot #\n",
    "par(mfrow=c(1,3))\n",
    "\n",
    "plot(coef.adpt.unemp,ylim=c(-0.4,0.2),type='o',xaxt = 'n',xlab='All')\n",
    "abline(h=0,col='red')\n",
    "axis(1,at=c(2,4),labels=c('t(post unemp)','t+2')) \n",
    "\n",
    "plot(coef.adpt.unemp.m,ylim=c(-0.4,0.2),type='o',xaxt = 'n',xlab='Male')\n",
    "abline(h=0,col='red')\n",
    "axis(1,at=c(2,4),labels=c('t(post unemp)','t+2')) \n",
    "\n",
    "plot(coef.adpt.unemp.f,ylim=c(-0.4,0.2),type='o',xaxt = 'n',xlab='Female')\n",
    "abline(h=0,col='red')\n",
    "axis(1,at=c(2,4),labels=c('t(post unemp)','t+2')) "
   ]
  },
  {
   "cell_type": "markdown",
   "metadata": {},
   "source": [
    "### Robustness check - found a job within t1-3 - similar patterns"
   ]
  },
  {
   "cell_type": "code",
   "execution_count": 26,
   "metadata": {
    "nbpresent": {
     "id": "1cf00ca7-f42b-4f2f-b844-9ff7e95efb32"
    },
    "scrolled": true
   },
   "outputs": [
    {
     "data": {
      "text/plain": [
       "Oneway (individual) effect Within Model\n",
       "\n",
       "Call:\n",
       "plm(formula = lfsato ~ unemp.lastyr.each.slot + emp.postunemp.in1_2yr.t1 + \n",
       "    emp.postunemp.in1_2yr.t2 + emp.postunemp.in1_2yr.t3 + emp.postunemp.in1_2yr.t4 + \n",
       "    emp.postunemp.in1_2yr.t5 + age + I(age^2) + as.factor(academic) + \n",
       "    hhincome + couple + nchild + health, data = data, subset = (age <= \n",
       "    60), model = \"within\", index = c(\"id\", \"wave.num\"))\n",
       "\n",
       "Unbalanced Panel: n=20967, T=1-11, N=108227\n",
       "\n",
       "Residuals :\n",
       "    Min.  1st Qu.   Median  3rd Qu.     Max. \n",
       "-5.40000 -0.39200  0.00623  0.44600  4.58000 \n",
       "\n",
       "Coefficients :\n",
       "                            Estimate  Std. Error  t-value  Pr(>|t|)    \n",
       "unemp.lastyr.each.slot   -2.1449e-01  2.1044e-02 -10.1922 < 2.2e-16 ***\n",
       "emp.postunemp.in1_2yr.t1  1.1604e-01  2.6187e-02   4.4311 9.385e-06 ***\n",
       "emp.postunemp.in1_2yr.t2  3.9878e-02  3.0021e-02   1.3283   0.18407    \n",
       "emp.postunemp.in1_2yr.t3  8.2389e-02  3.3220e-02   2.4801   0.01314 *  \n",
       "emp.postunemp.in1_2yr.t4  7.9938e-02  3.6274e-02   2.2038   0.02754 *  \n",
       "emp.postunemp.in1_2yr.t5  5.6482e-02  3.9661e-02   1.4241   0.15442    \n",
       "age                      -5.5012e-02  3.7991e-03 -14.4803 < 2.2e-16 ***\n",
       "I(age^2)                  5.6449e-04  4.6560e-05  12.1238 < 2.2e-16 ***\n",
       "as.factor(academic)2     -9.3970e-02  5.5019e-02  -1.7080   0.08765 .  \n",
       "as.factor(academic)3     -5.9420e-02  6.8382e-02  -0.8689   0.38488    \n",
       "as.factor(academic)4     -5.5363e-02  5.6810e-02  -0.9745   0.32980    \n",
       "as.factor(academic)5     -7.9543e-02  5.9791e-02  -1.3304   0.18341    \n",
       "as.factor(academic)6     -1.5277e-01  9.2206e-02  -1.6568   0.09756 .  \n",
       "as.factor(academic)7     -1.7179e-01  7.4556e-02  -2.3042   0.02121 *  \n",
       "hhincome                  8.1431e-06  1.9650e-06   4.1440 3.416e-05 ***\n",
       "couple                    2.3280e-01  1.3285e-02  17.5234 < 2.2e-16 ***\n",
       "nchild                    4.7944e-03  6.1644e-03   0.7778   0.43671    \n",
       "health                    2.2886e-01  4.6135e-03  49.6067 < 2.2e-16 ***\n",
       "---\n",
       "Signif. codes:  0 ‘***’ 0.001 ‘**’ 0.01 ‘*’ 0.05 ‘.’ 0.1 ‘ ’ 1\n",
       "\n",
       "Total Sum of Squares:    67229\n",
       "Residual Sum of Squares: 64882\n",
       "R-Squared:      0.034906\n",
       "Adj. R-Squared: -0.19722\n",
       "F-statistic: 175.302 on 18 and 87242 DF, p-value: < 2.22e-16"
      ]
     },
     "metadata": {},
     "output_type": "display_data"
    },
    {
     "data": {
      "text/plain": [
       "Oneway (individual) effect Within Model\n",
       "\n",
       "Call:\n",
       "plm(formula = lfsato ~ unemp.lastyr.each.slot + emp.postunemp.in1_2yr.t1 + \n",
       "    emp.postunemp.in1_2yr.t2 + emp.postunemp.in1_2yr.t3 + emp.postunemp.in1_2yr.t4 + \n",
       "    emp.postunemp.in1_2yr.t5 + age + I(age^2) + as.factor(academic) + \n",
       "    hhincome + couple + nchild + health, data = data, subset = (sex == \n",
       "    1 & age <= 60), model = \"within\", index = c(\"id\", \"wave.num\"))\n",
       "\n",
       "Unbalanced Panel: n=9915, T=1-11, N=49742\n",
       "\n",
       "Residuals :\n",
       "    Min.  1st Qu.   Median  3rd Qu.     Max. \n",
       "-5.12000 -0.37700  0.00483  0.42800  4.53000 \n",
       "\n",
       "Coefficients :\n",
       "                            Estimate  Std. Error  t-value  Pr(>|t|)    \n",
       "unemp.lastyr.each.slot   -2.0428e-01  2.8897e-02  -7.0694 1.582e-12 ***\n",
       "emp.postunemp.in1_2yr.t1  1.6009e-01  3.4125e-02   4.6914 2.722e-06 ***\n",
       "emp.postunemp.in1_2yr.t2  4.0047e-02  3.9233e-02   1.0208   0.30737    \n",
       "emp.postunemp.in1_2yr.t3  8.7128e-02  4.3334e-02   2.0106   0.04438 *  \n",
       "emp.postunemp.in1_2yr.t4  7.5657e-02  4.5919e-02   1.6476   0.09944 .  \n",
       "emp.postunemp.in1_2yr.t5  4.9047e-02  4.9950e-02   0.9819   0.32615    \n",
       "age                      -6.4571e-02  5.4138e-03 -11.9272 < 2.2e-16 ***\n",
       "I(age^2)                  6.6562e-04  6.6195e-05  10.0555 < 2.2e-16 ***\n",
       "as.factor(academic)2     -1.5013e-01  7.5896e-02  -1.9781   0.04793 *  \n",
       "as.factor(academic)3     -1.1553e-01  9.6847e-02  -1.1929   0.23292    \n",
       "as.factor(academic)4     -2.8878e-02  7.7990e-02  -0.3703   0.71118    \n",
       "as.factor(academic)5      2.8014e-02  8.3830e-02   0.3342   0.73824    \n",
       "as.factor(academic)6      5.9454e-02  1.2932e-01   0.4597   0.64571    \n",
       "as.factor(academic)7     -2.1717e-01  1.0645e-01  -2.0401   0.04134 *  \n",
       "hhincome                  1.3833e-05  2.7364e-06   5.0551 4.321e-07 ***\n",
       "couple                    2.4316e-01  2.0440e-02  11.8966 < 2.2e-16 ***\n",
       "nchild                    1.2388e-02  8.7624e-03   1.4138   0.15743    \n",
       "health                    2.2594e-01  6.8121e-03  33.1679 < 2.2e-16 ***\n",
       "---\n",
       "Signif. codes:  0 ‘***’ 0.001 ‘**’ 0.01 ‘*’ 0.05 ‘.’ 0.1 ‘ ’ 1\n",
       "\n",
       "Total Sum of Squares:    28636\n",
       "Residual Sum of Squares: 27562\n",
       "R-Squared:      0.037485\n",
       "Adj. R-Squared: -0.20265\n",
       "F-statistic: 86.1315 on 18 and 39809 DF, p-value: < 2.22e-16"
      ]
     },
     "metadata": {},
     "output_type": "display_data"
    },
    {
     "data": {
      "text/plain": [
       "Oneway (individual) effect Within Model\n",
       "\n",
       "Call:\n",
       "plm(formula = lfsato ~ unemp.lastyr.each.slot + emp.postunemp.in1_2yr.t1 + \n",
       "    emp.postunemp.in1_2yr.t2 + emp.postunemp.in1_2yr.t3 + emp.postunemp.in1_2yr.t4 + \n",
       "    emp.postunemp.in1_2yr.t5 + age + I(age^2) + as.factor(academic) + \n",
       "    hhincome + couple + nchild + health, data = data, subset = (sex == \n",
       "    2 & age <= 60), model = \"within\", index = c(\"id\", \"wave.num\"))\n",
       "\n",
       "Unbalanced Panel: n=11052, T=1-11, N=58485\n",
       "\n",
       "Residuals :\n",
       "    Min.  1st Qu.   Median  3rd Qu.     Max. \n",
       "-5.40000 -0.40700  0.00699  0.46200  4.59000 \n",
       "\n",
       "Coefficients :\n",
       "                            Estimate  Std. Error t-value  Pr(>|t|)    \n",
       "unemp.lastyr.each.slot   -2.2146e-01  3.0448e-02 -7.2736 3.555e-13 ***\n",
       "emp.postunemp.in1_2yr.t1  6.4020e-02  4.0169e-02  1.5938   0.11099    \n",
       "emp.postunemp.in1_2yr.t2  4.2082e-02  4.5856e-02  0.9177   0.35877    \n",
       "emp.postunemp.in1_2yr.t3  8.0517e-02  5.0819e-02  1.5844   0.11311    \n",
       "emp.postunemp.in1_2yr.t4  8.9738e-02  5.7703e-02  1.5552   0.11991    \n",
       "emp.postunemp.in1_2yr.t5  7.1228e-02  6.3525e-02  1.1213   0.26218    \n",
       "age                      -4.5869e-02  5.3250e-03 -8.6140 < 2.2e-16 ***\n",
       "I(age^2)                  4.6447e-04  6.5365e-05  7.1057 1.214e-12 ***\n",
       "as.factor(academic)2     -6.3434e-02  7.9502e-02 -0.7979   0.42494    \n",
       "as.factor(academic)3     -1.8321e-03  9.6362e-02 -0.0190   0.98483    \n",
       "as.factor(academic)4     -6.9760e-02  8.2412e-02 -0.8465   0.39729    \n",
       "as.factor(academic)5     -1.4606e-01  8.5449e-02 -1.7093   0.08740 .  \n",
       "as.factor(academic)6     -3.2783e-01  1.3112e-01 -2.5001   0.01242 *  \n",
       "as.factor(academic)7     -1.4484e-01  1.0484e-01 -1.3816   0.16709    \n",
       "hhincome                  2.9335e-06  2.8062e-06  1.0454   0.29585    \n",
       "couple                    2.2720e-01  1.7673e-02 12.8557 < 2.2e-16 ***\n",
       "nchild                   -3.2772e-03  8.7254e-03 -0.3756   0.70722    \n",
       "health                    2.3077e-01  6.2689e-03 36.8118 < 2.2e-16 ***\n",
       "---\n",
       "Signif. codes:  0 ‘***’ 0.001 ‘**’ 0.01 ‘*’ 0.05 ‘.’ 0.1 ‘ ’ 1\n",
       "\n",
       "Total Sum of Squares:    38593\n",
       "Residual Sum of Squares: 37282\n",
       "R-Squared:      0.033964\n",
       "Adj. R-Squared: -0.19156\n",
       "F-statistic: 92.6136 on 18 and 47415 DF, p-value: < 2.22e-16"
      ]
     },
     "metadata": {},
     "output_type": "display_data"
    },
    {
     "data": {
      "text/plain": [
       "Oneway (individual) effect Within Model\n",
       "\n",
       "Call:\n",
       "plm(formula = lfsato ~ unemp.lastyr.each.slot + emp.postunemp.in1_3yr.t1 + \n",
       "    emp.postunemp.in1_3yr.t2 + emp.postunemp.in1_3yr.t3 + emp.postunemp.in1_3yr.t4 + \n",
       "    emp.postunemp.in1_3yr.t5 + age + I(age^2) + as.factor(academic) + \n",
       "    hhincome + couple + nchild + health, data = data, subset = (age <= \n",
       "    60), model = \"within\", index = c(\"id\", \"wave.num\"))\n",
       "\n",
       "Unbalanced Panel: n=20967, T=1-11, N=108227\n",
       "\n",
       "Residuals :\n",
       "    Min.  1st Qu.   Median  3rd Qu.     Max. \n",
       "-5.40000 -0.39200  0.00629  0.44600  4.57000 \n",
       "\n",
       "Coefficients :\n",
       "                            Estimate  Std. Error  t-value  Pr(>|t|)    \n",
       "unemp.lastyr.each.slot   -2.1454e-01  2.1043e-02 -10.1956 < 2.2e-16 ***\n",
       "emp.postunemp.in1_3yr.t1  1.0997e-01  2.4782e-02   4.4376 9.109e-06 ***\n",
       "emp.postunemp.in1_3yr.t2  4.1086e-02  2.8672e-02   1.4330   0.15186    \n",
       "emp.postunemp.in1_3yr.t3  7.6539e-02  3.1613e-02   2.4211   0.01548 *  \n",
       "emp.postunemp.in1_3yr.t4  7.0421e-02  3.4556e-02   2.0379   0.04157 *  \n",
       "emp.postunemp.in1_3yr.t5  5.2416e-02  3.8315e-02   1.3680   0.17131    \n",
       "age                      -5.5008e-02  3.7992e-03 -14.4786 < 2.2e-16 ***\n",
       "I(age^2)                  5.6444e-04  4.6562e-05  12.1223 < 2.2e-16 ***\n",
       "as.factor(academic)2     -9.2973e-02  5.5020e-02  -1.6898   0.09107 .  \n",
       "as.factor(academic)3     -5.8730e-02  6.8384e-02  -0.8588   0.39043    \n",
       "as.factor(academic)4     -5.4493e-02  5.6814e-02  -0.9592   0.33748    \n",
       "as.factor(academic)5     -7.8577e-02  5.9796e-02  -1.3141   0.18882    \n",
       "as.factor(academic)6     -1.5200e-01  9.2209e-02  -1.6485   0.09926 .  \n",
       "as.factor(academic)7     -1.7067e-01  7.4562e-02  -2.2890   0.02208 *  \n",
       "hhincome                  8.1556e-06  1.9650e-06   4.1504 3.321e-05 ***\n",
       "couple                    2.3284e-01  1.3285e-02  17.5265 < 2.2e-16 ***\n",
       "nchild                    4.7503e-03  6.1648e-03   0.7706   0.44098    \n",
       "health                    2.2888e-01  4.6134e-03  49.6123 < 2.2e-16 ***\n",
       "---\n",
       "Signif. codes:  0 ‘***’ 0.001 ‘**’ 0.01 ‘*’ 0.05 ‘.’ 0.1 ‘ ’ 1\n",
       "\n",
       "Total Sum of Squares:    67229\n",
       "Residual Sum of Squares: 64882\n",
       "R-Squared:      0.0349\n",
       "Adj. R-Squared: -0.19723\n",
       "F-statistic: 175.27 on 18 and 87242 DF, p-value: < 2.22e-16"
      ]
     },
     "metadata": {},
     "output_type": "display_data"
    },
    {
     "data": {
      "text/plain": [
       "Oneway (individual) effect Within Model\n",
       "\n",
       "Call:\n",
       "plm(formula = lfsato ~ unemp.lastyr.each.slot + emp.postunemp.in1_3yr.t1 + \n",
       "    emp.postunemp.in1_3yr.t2 + emp.postunemp.in1_3yr.t3 + emp.postunemp.in1_3yr.t4 + \n",
       "    emp.postunemp.in1_3yr.t5 + age + I(age^2) + as.factor(academic) + \n",
       "    hhincome + couple + nchild + health, data = data, subset = (sex == \n",
       "    1 & age <= 60), model = \"within\", index = c(\"id\", \"wave.num\"))\n",
       "\n",
       "Unbalanced Panel: n=9915, T=1-11, N=49742\n",
       "\n",
       "Residuals :\n",
       "    Min.  1st Qu.   Median  3rd Qu.     Max. \n",
       "-5.12000 -0.37700  0.00489  0.42900  4.53000 \n",
       "\n",
       "Coefficients :\n",
       "                            Estimate  Std. Error  t-value  Pr(>|t|)    \n",
       "unemp.lastyr.each.slot   -2.0658e-01  2.8874e-02  -7.1546 8.536e-13 ***\n",
       "emp.postunemp.in1_3yr.t1  1.4412e-01  3.2430e-02   4.4441 8.849e-06 ***\n",
       "emp.postunemp.in1_3yr.t2  3.5737e-02  3.7622e-02   0.9499   0.34216    \n",
       "emp.postunemp.in1_3yr.t3  7.7281e-02  4.1500e-02   1.8622   0.06259 .  \n",
       "emp.postunemp.in1_3yr.t4  6.5698e-02  4.3878e-02   1.4973   0.13433    \n",
       "emp.postunemp.in1_3yr.t5  4.5670e-02  4.8478e-02   0.9421   0.34617    \n",
       "age                      -6.4565e-02  5.4142e-03 -11.9250 < 2.2e-16 ***\n",
       "I(age^2)                  6.6527e-04  6.6197e-05  10.0498 < 2.2e-16 ***\n",
       "as.factor(academic)2     -1.5031e-01  7.5898e-02  -1.9804   0.04767 *  \n",
       "as.factor(academic)3     -1.1639e-01  9.6848e-02  -1.2017   0.22947    \n",
       "as.factor(academic)4     -2.9654e-02  7.7992e-02  -0.3802   0.70378    \n",
       "as.factor(academic)5      2.6949e-02  8.3831e-02   0.3215   0.74786    \n",
       "as.factor(academic)6      5.8266e-02  1.2932e-01   0.4505   0.65232    \n",
       "as.factor(academic)7     -2.1799e-01  1.0645e-01  -2.0477   0.04059 *  \n",
       "hhincome                  1.3880e-05  2.7363e-06   5.0726 3.941e-07 ***\n",
       "couple                    2.4297e-01  2.0440e-02  11.8869 < 2.2e-16 ***\n",
       "nchild                    1.2284e-02  8.7629e-03   1.4018   0.16098    \n",
       "health                    2.2601e-01  6.8123e-03  33.1777 < 2.2e-16 ***\n",
       "---\n",
       "Signif. codes:  0 ‘***’ 0.001 ‘**’ 0.01 ‘*’ 0.05 ‘.’ 0.1 ‘ ’ 1\n",
       "\n",
       "Total Sum of Squares:    28636\n",
       "Residual Sum of Squares: 27564\n",
       "R-Squared:      0.037421\n",
       "Adj. R-Squared: -0.20273\n",
       "F-statistic: 85.9778 on 18 and 39809 DF, p-value: < 2.22e-16"
      ]
     },
     "metadata": {},
     "output_type": "display_data"
    },
    {
     "data": {
      "text/plain": [
       "Oneway (individual) effect Within Model\n",
       "\n",
       "Call:\n",
       "plm(formula = lfsato ~ unemp.lastyr.each.slot + emp.postunemp.in1_3yr.t1 + \n",
       "    emp.postunemp.in1_3yr.t2 + emp.postunemp.in1_3yr.t3 + emp.postunemp.in1_3yr.t4 + \n",
       "    emp.postunemp.in1_3yr.t5 + age + I(age^2) + as.factor(academic) + \n",
       "    hhincome + couple + nchild + health, data = data, subset = (sex == \n",
       "    2 & age <= 60), model = \"within\", index = c(\"id\", \"wave.num\"))\n",
       "\n",
       "Unbalanced Panel: n=11052, T=1-11, N=58485\n",
       "\n",
       "Residuals :\n",
       "    Min.  1st Qu.   Median  3rd Qu.     Max. \n",
       "-5.40000 -0.40700  0.00708  0.46200  4.58000 \n",
       "\n",
       "Coefficients :\n",
       "                            Estimate  Std. Error t-value  Pr(>|t|)    \n",
       "unemp.lastyr.each.slot   -2.1956e-01  3.0467e-02 -7.2066 5.820e-13 ***\n",
       "emp.postunemp.in1_3yr.t1  7.0628e-02  3.7812e-02  1.8679   0.06179 .  \n",
       "emp.postunemp.in1_3yr.t2  4.9137e-02  4.3580e-02  1.1275   0.25953    \n",
       "emp.postunemp.in1_3yr.t3  7.8746e-02  4.7997e-02  1.6406   0.10088    \n",
       "emp.postunemp.in1_3yr.t4  7.9880e-02  5.4750e-02  1.4590   0.14458    \n",
       "emp.postunemp.in1_3yr.t5  6.5145e-02  6.0976e-02  1.0684   0.28536    \n",
       "age                      -4.5927e-02  5.3257e-03 -8.6237 < 2.2e-16 ***\n",
       "I(age^2)                  4.6523e-04  6.5372e-05  7.1166 1.122e-12 ***\n",
       "as.factor(academic)2     -6.1526e-02  7.9506e-02 -0.7739   0.43902    \n",
       "as.factor(academic)3     -8.9475e-05  9.6368e-02 -0.0009   0.99926    \n",
       "as.factor(academic)4     -6.7869e-02  8.2420e-02 -0.8235   0.41025    \n",
       "as.factor(academic)5     -1.4398e-01  8.5459e-02 -1.6847   0.09204 .  \n",
       "as.factor(academic)6     -3.2637e-01  1.3112e-01 -2.4891   0.01281 *  \n",
       "as.factor(academic)7     -1.4259e-01  1.0485e-01 -1.3600   0.17384    \n",
       "hhincome                  2.9252e-06  2.8062e-06  1.0424   0.29723    \n",
       "couple                    2.2742e-01  1.7673e-02 12.8682 < 2.2e-16 ***\n",
       "nchild                   -3.1797e-03  8.7267e-03 -0.3644   0.71559    \n",
       "health                    2.3077e-01  6.2687e-03 36.8121 < 2.2e-16 ***\n",
       "---\n",
       "Signif. codes:  0 ‘***’ 0.001 ‘**’ 0.01 ‘*’ 0.05 ‘.’ 0.1 ‘ ’ 1\n",
       "\n",
       "Total Sum of Squares:    38593\n",
       "Residual Sum of Squares: 37281\n",
       "R-Squared:      0.03398\n",
       "Adj. R-Squared: -0.19154\n",
       "F-statistic: 92.6574 on 18 and 47415 DF, p-value: < 2.22e-16"
      ]
     },
     "metadata": {},
     "output_type": "display_data"
    }
   ],
   "source": [
    "## employed within t1-2 ##\n",
    "# overall #\n",
    "\n",
    "adpt.unemp.int <- plm(lfsato ~ unemp.lastyr.each.slot + \n",
    "\t\t\temp.postunemp.in1_2yr.t1 + emp.postunemp.in1_2yr.t2 + emp.postunemp.in1_2yr.t3 + \n",
    "            emp.postunemp.in1_2yr.t4 + emp.postunemp.in1_2yr.t5 + \n",
    "\t\t\tage + I(age^2) + as.factor(academic) +\n",
    "\t\t\thhincome + couple + nchild + health ,\n",
    "\t\t\tdata, subset = (age <=60),\n",
    "\t\t\tindex = c('id','wave.num'), model = 'within')\n",
    "summary(adpt.unemp.int)\n",
    "\n",
    "# by sex #\n",
    "\n",
    "adpt.unemp.int <- plm(lfsato ~ unemp.lastyr.each.slot + \n",
    " \t\t\temp.postunemp.in1_2yr.t1 + emp.postunemp.in1_2yr.t2 + emp.postunemp.in1_2yr.t3 + \n",
    "            emp.postunemp.in1_2yr.t4 + emp.postunemp.in1_2yr.t5 + \n",
    "\t\t\tage + I(age^2) + as.factor(academic) +\n",
    "\t\t\thhincome + couple + nchild + health ,\n",
    "\t\t\tdata, subset = (sex==1 & age <=60), # sex=male\n",
    "\t\t\tindex = c('id','wave.num'), model = 'within')\n",
    "summary(adpt.unemp.int)\n",
    "\n",
    "adpt.unemp.int <- plm(lfsato ~ unemp.lastyr.each.slot + \n",
    " \t\t\temp.postunemp.in1_2yr.t1 + emp.postunemp.in1_2yr.t2 + emp.postunemp.in1_2yr.t3 + \n",
    "            emp.postunemp.in1_2yr.t4 + emp.postunemp.in1_2yr.t5 + \n",
    "\t\t\tage + I(age^2) + as.factor(academic) +\n",
    "\t\t\thhincome + couple + nchild + health ,\n",
    "\t\t\tdata, subset = (sex==2 & age <=60), # sex=female\n",
    "\t\t\tindex = c('id','wave.num'), model = 'within')\n",
    "summary(adpt.unemp.int)\n",
    "\n",
    "\n",
    "## employed within t1-3 ##\n",
    "# overall #\n",
    "\n",
    "adpt.unemp.int <- plm(lfsato ~ unemp.lastyr.each.slot + \n",
    "\t\t\temp.postunemp.in1_3yr.t1 + emp.postunemp.in1_3yr.t2 + emp.postunemp.in1_3yr.t3 + \n",
    "            emp.postunemp.in1_3yr.t4 + emp.postunemp.in1_3yr.t5 + \n",
    "\t\t\tage + I(age^2) + as.factor(academic) +\n",
    "\t\t\thhincome + couple + nchild + health ,\n",
    "\t\t\tdata, subset = (age <=60),\n",
    "\t\t\tindex = c('id','wave.num'), model = 'within')\n",
    "summary(adpt.unemp.int)\n",
    "\n",
    "# by sex #\n",
    "\n",
    "adpt.unemp.int <- plm(lfsato ~ unemp.lastyr.each.slot + \n",
    " \t\t\temp.postunemp.in1_3yr.t1 + emp.postunemp.in1_3yr.t2 + emp.postunemp.in1_3yr.t3 + \n",
    "            emp.postunemp.in1_3yr.t4 + emp.postunemp.in1_3yr.t5 + \n",
    "\t\t\tage + I(age^2) + as.factor(academic) +\n",
    "\t\t\thhincome + couple + nchild + health ,\n",
    "\t\t\tdata, subset = (sex==1 & age <=60), # sex=male\n",
    "\t\t\tindex = c('id','wave.num'), model = 'within')\n",
    "summary(adpt.unemp.int)\n",
    "\n",
    "adpt.unemp.int <- plm(lfsato ~ unemp.lastyr.each.slot + \n",
    " \t\t\temp.postunemp.in1_3yr.t1 + emp.postunemp.in1_3yr.t2 + emp.postunemp.in1_3yr.t3 + \n",
    "            emp.postunemp.in1_3yr.t4 + emp.postunemp.in1_3yr.t5 + \n",
    "\t\t\tage + I(age^2) + as.factor(academic) +\n",
    "\t\t\thhincome + couple + nchild + health ,\n",
    "\t\t\tdata, subset = (sex==2 & age <=60), # sex=female\n",
    "\t\t\tindex = c('id','wave.num'), model = 'within')\n",
    "summary(adpt.unemp.int)"
   ]
  },
  {
   "cell_type": "code",
   "execution_count": 27,
   "metadata": {
    "nbpresent": {
     "id": "84e92a3f-0b01-4ca6-9add-c72d7f4f7cf7"
    },
    "scrolled": true
   },
   "outputs": [
    {
     "data": {
      "text/plain": [
       "Oneway (individual) effect Random Effect Model \n",
       "   (Swamy-Arora's transformation)\n",
       "\n",
       "Call:\n",
       "plm(formula = lfsato ~ unemp.lastyr.each.slot + emp.postunemp.in1yr.t1 + \n",
       "    emp.postunemp.in1yr.t2 + emp.postunemp.in1yr.t3 + emp.postunemp.in1yr.t4 + \n",
       "    emp.postunemp.in1yr.t5 + age + I(age^2) + as.factor(academic) + \n",
       "    sex + hhincome + couple + nchild + health, data = data, model = \"random\", \n",
       "    index = c(\"id\", \"wave.num\"))\n",
       "\n",
       "Unbalanced Panel: n=22103, T=1-11, N=116757\n",
       "\n",
       "Effects:\n",
       "                 var std.dev share\n",
       "idiosyncratic 0.7472  0.8644 0.581\n",
       "individual    0.5382  0.7336 0.419\n",
       "theta  : \n",
       "   Min. 1st Qu.  Median    Mean 3rd Qu.    Max. \n",
       " 0.2376  0.5338  0.6154  0.5800  0.6652  0.6652 \n",
       "\n",
       "Residuals :\n",
       "   Min. 1st Qu.  Median    Mean 3rd Qu.    Max. \n",
       "-5.0100 -0.4610  0.0981  0.0013  0.5710  4.0800 \n",
       "\n",
       "Coefficients :\n",
       "                          Estimate  Std. Error  t-value  Pr(>|t|)    \n",
       "(Intercept)             4.8343e+00  5.7145e-02  84.5979 < 2.2e-16 ***\n",
       "unemp.lastyr.each.slot -2.6962e-01  2.0056e-02 -13.4435 < 2.2e-16 ***\n",
       "emp.postunemp.in1yr.t1  4.5604e-02  2.6608e-02   1.7139 0.0865465 .  \n",
       "emp.postunemp.in1yr.t2 -1.8430e-02  3.0740e-02  -0.5996 0.5488027    \n",
       "emp.postunemp.in1yr.t3  3.7505e-02  3.4027e-02   1.1022 0.2703794    \n",
       "emp.postunemp.in1yr.t4  4.2869e-02  3.7582e-02   1.1407 0.2540043    \n",
       "emp.postunemp.in1yr.t5  2.1215e-02  4.0756e-02   0.5205 0.6026876    \n",
       "age                    -6.7095e-02  2.2061e-03 -30.4133 < 2.2e-16 ***\n",
       "I(age^2)                8.1293e-04  2.7131e-05  29.9631 < 2.2e-16 ***\n",
       "as.factor(academic)2   -4.5686e-02  3.3125e-02  -1.3792 0.1678256    \n",
       "as.factor(academic)3   -7.3234e-04  3.6672e-02  -0.0200 0.9840672    \n",
       "as.factor(academic)4   -1.1845e-02  3.2388e-02  -0.3657 0.7145848    \n",
       "as.factor(academic)5   -1.3456e-02  3.2448e-02  -0.4147 0.6783587    \n",
       "as.factor(academic)6   -9.8409e-03  3.8801e-02  -0.2536 0.7997853    \n",
       "as.factor(academic)7   -1.2624e-02  3.3370e-02  -0.3783 0.7052024    \n",
       "sex                     4.8736e-02  1.1936e-02   4.0832 4.445e-05 ***\n",
       "hhincome                1.3483e-05  1.6780e-06   8.0348 9.457e-16 ***\n",
       "couple                  3.4156e-01  1.0295e-02  33.1768 < 2.2e-16 ***\n",
       "nchild                 -1.6690e-02  4.8989e-03  -3.4068 0.0006575 ***\n",
       "health                  3.1935e-01  3.9386e-03  81.0833 < 2.2e-16 ***\n",
       "---\n",
       "Signif. codes:  0 ‘***’ 0.001 ‘**’ 0.01 ‘*’ 0.05 ‘.’ 0.1 ‘ ’ 1\n",
       "\n",
       "Total Sum of Squares:    131320\n",
       "Residual Sum of Squares: 89970\n",
       "R-Squared:      0.31492\n",
       "Adj. R-Squared: 0.31481\n",
       "F-statistic: 2823.99 on 19 and 116737 DF, p-value: < 2.22e-16"
      ]
     },
     "metadata": {},
     "output_type": "display_data"
    },
    {
     "data": {
      "text/plain": [
       "Oneway (individual) effect Random Effect Model \n",
       "   (Swamy-Arora's transformation)\n",
       "\n",
       "Call:\n",
       "plm(formula = lfsato ~ unemp.lastyr.each.slot + emp.postunemp.in1yr.t1 + \n",
       "    emp.postunemp.in1yr.t2 + emp.postunemp.in1yr.t3 + emp.postunemp.in1yr.t4 + \n",
       "    emp.postunemp.in1yr.t5 + age + I(age^2) + as.factor(academic) + \n",
       "    sex + hhincome + couple + nchild + health, data = data, subset = (sex == \n",
       "    1), model = \"random\", index = c(\"id\", \"wave.num\"))\n",
       "\n",
       "Unbalanced Panel: n=10439, T=1-11, N=53622\n",
       "\n",
       "Effects:\n",
       "                 var std.dev share\n",
       "idiosyncratic 0.6921  0.8319 0.578\n",
       "individual    0.5056  0.7111 0.422\n",
       "theta  : \n",
       "   Min. 1st Qu.  Median    Mean 3rd Qu.    Max. \n",
       " 0.2398  0.5364  0.6178  0.5788  0.6673  0.6673 \n",
       "\n",
       "Residuals :\n",
       "   Min. 1st Qu.  Median    Mean 3rd Qu.    Max. \n",
       "-4.9000 -0.4390  0.0952  0.0035  0.5500  3.8500 \n",
       "\n",
       "Coefficients :\n",
       "                          Estimate  Std. Error  t-value Pr(>|t|)    \n",
       "(Intercept)             5.0226e+00  7.5998e-02  66.0884  < 2e-16 ***\n",
       "unemp.lastyr.each.slot -2.6540e-01  2.7138e-02  -9.7796  < 2e-16 ***\n",
       "emp.postunemp.in1yr.t1  8.0245e-02  3.4069e-02   2.3554  0.01851 *  \n",
       "emp.postunemp.in1yr.t2 -2.3173e-02  3.9278e-02  -0.5900  0.55520    \n",
       "emp.postunemp.in1yr.t3  3.5966e-02  4.3254e-02   0.8315  0.40569    \n",
       "emp.postunemp.in1yr.t4  4.5170e-02  4.6433e-02   0.9728  0.33066    \n",
       "emp.postunemp.in1yr.t5 -3.5865e-03  5.0147e-02  -0.0715  0.94298    \n",
       "age                    -7.6070e-02  3.1352e-03 -24.2632  < 2e-16 ***\n",
       "I(age^2)                9.1115e-04  3.8288e-05  23.7974  < 2e-16 ***\n",
       "as.factor(academic)2   -8.0409e-02  4.4631e-02  -1.8016  0.07161 .  \n",
       "as.factor(academic)3   -2.0557e-02  4.9281e-02  -0.4171  0.67659    \n",
       "as.factor(academic)4   -8.5036e-03  4.3039e-02  -0.1976  0.84337    \n",
       "as.factor(academic)5    2.5378e-02  4.3528e-02   0.5830  0.55988    \n",
       "as.factor(academic)6    6.5168e-02  5.2705e-02   1.2365  0.21629    \n",
       "as.factor(academic)7    2.8878e-03  4.4780e-02   0.0645  0.94858    \n",
       "hhincome                1.7536e-05  2.3016e-06   7.6189  2.6e-14 ***\n",
       "couple                  3.2676e-01  1.5811e-02  20.6667  < 2e-16 ***\n",
       "nchild                 -5.8679e-03  7.1003e-03  -0.8264  0.40856    \n",
       "health                  3.2336e-01  5.7746e-03  55.9972  < 2e-16 ***\n",
       "---\n",
       "Signif. codes:  0 ‘***’ 0.001 ‘**’ 0.01 ‘*’ 0.05 ‘.’ 0.1 ‘ ’ 1\n",
       "\n",
       "Total Sum of Squares:    57854\n",
       "Residual Sum of Squares: 38514\n",
       "R-Squared:      0.33444\n",
       "Adj. R-Squared: 0.33422\n",
       "F-statistic: 1495.37 on 18 and 53603 DF, p-value: < 2.22e-16"
      ]
     },
     "metadata": {},
     "output_type": "display_data"
    },
    {
     "data": {
      "text/plain": [
       "Oneway (individual) effect Random Effect Model \n",
       "   (Swamy-Arora's transformation)\n",
       "\n",
       "Call:\n",
       "plm(formula = lfsato ~ unemp.lastyr.each.slot + emp.postunemp.in1yr.t1 + \n",
       "    emp.postunemp.in1yr.t2 + emp.postunemp.in1yr.t3 + emp.postunemp.in1yr.t4 + \n",
       "    emp.postunemp.in1yr.t5 + age + I(age^2) + as.factor(academic) + \n",
       "    sex + hhincome + couple + nchild + health, data = data, subset = (sex == \n",
       "    2), model = \"random\", index = c(\"id\", \"wave.num\"))\n",
       "\n",
       "Unbalanced Panel: n=11664, T=1-11, N=63135\n",
       "\n",
       "Effects:\n",
       "                 var std.dev share\n",
       "idiosyncratic 0.7928  0.8904 0.584\n",
       "individual    0.5647  0.7514 0.416\n",
       "theta  : \n",
       "   Min. 1st Qu.  Median    Mean 3rd Qu.    Max. \n",
       " 0.2358  0.5645  0.6136  0.5811  0.6636  0.6636 \n",
       "\n",
       "Residuals :\n",
       "   Min. 1st Qu.  Median    Mean 3rd Qu.    Max. \n",
       "-5.0200 -0.4790  0.1010 -0.0004  0.5890  4.0600 \n",
       "\n",
       "Coefficients :\n",
       "                          Estimate  Std. Error  t-value  Pr(>|t|)    \n",
       "(Intercept)             4.8092e+00  7.7407e-02  62.1287 < 2.2e-16 ***\n",
       "unemp.lastyr.each.slot -2.7266e-01  2.9452e-02  -9.2577 < 2.2e-16 ***\n",
       "emp.postunemp.in1yr.t1 -2.6105e-03  4.1707e-02  -0.0626 0.9500921    \n",
       "emp.postunemp.in1yr.t2 -1.3599e-02  4.8297e-02  -0.2816 0.7782706    \n",
       "emp.postunemp.in1yr.t3  3.9708e-02  5.3815e-02   0.7379 0.4606005    \n",
       "emp.postunemp.in1yr.t4  4.1486e-02  6.1985e-02   0.6693 0.5033096    \n",
       "emp.postunemp.in1yr.t5  6.4471e-02  6.7649e-02   0.9530 0.3405819    \n",
       "age                    -5.9004e-02  3.1017e-03 -19.0228 < 2.2e-16 ***\n",
       "I(age^2)                7.2645e-04  3.8352e-05  18.9414 < 2.2e-16 ***\n",
       "as.factor(academic)2   -2.4926e-02  4.9115e-02  -0.5075 0.6117994    \n",
       "as.factor(academic)3    1.4932e-02  5.4353e-02   0.2747 0.7835373    \n",
       "as.factor(academic)4   -1.6514e-02  4.8563e-02  -0.3401 0.7338197    \n",
       "as.factor(academic)5   -5.0563e-02  4.8305e-02  -1.0468 0.2952182    \n",
       "as.factor(academic)6   -9.1488e-02  5.7041e-02  -1.6039 0.1087383    \n",
       "as.factor(academic)7   -3.8974e-02  4.9644e-02  -0.7851 0.4324200    \n",
       "hhincome                9.1015e-06  2.4327e-06   3.7413 0.0001832 ***\n",
       "couple                  3.5522e-01  1.3731e-02  25.8705 < 2.2e-16 ***\n",
       "nchild                 -2.3687e-02  6.8346e-03  -3.4657 0.0005291 ***\n",
       "health                  3.1582e-01  5.3823e-03  58.6767 < 2.2e-16 ***\n",
       "---\n",
       "Signif. codes:  0 ‘***’ 0.001 ‘**’ 0.01 ‘*’ 0.05 ‘.’ 0.1 ‘ ’ 1\n",
       "\n",
       "Total Sum of Squares:    73435\n",
       "Residual Sum of Squares: 51401\n",
       "R-Squared:      0.30005\n",
       "Adj. R-Squared: 0.29985\n",
       "F-statistic: 1503.07 on 18 and 63116 DF, p-value: < 2.22e-16"
      ]
     },
     "metadata": {},
     "output_type": "display_data"
    }
   ],
   "source": [
    "## adpt post unemp - employed - random ##\n",
    "\n",
    "# overall #\n",
    "adpt.unemp.int <- plm(lfsato ~ unemp.lastyr.each.slot + \n",
    "\t\t\temp.postunemp.in1yr.t1 + emp.postunemp.in1yr.t2 + emp.postunemp.in1yr.t3 + emp.postunemp.in1yr.t4 + emp.postunemp.in1yr.t5 + \n",
    "\t\t\tage + I(age^2) + as.factor(academic) + sex +\n",
    "\t\t\thhincome + couple + nchild + health ,\n",
    "\t\t\tdata, \n",
    "\t\t\tindex = c('id','wave.num'), model = 'random')\n",
    "summary(adpt.unemp.int)\n",
    "\n",
    "# by sex #\n",
    "\n",
    "adpt.unemp.int <- plm(lfsato ~ unemp.lastyr.each.slot + \n",
    " \t\t\temp.postunemp.in1yr.t1 + emp.postunemp.in1yr.t2 + emp.postunemp.in1yr.t3 + emp.postunemp.in1yr.t4 + emp.postunemp.in1yr.t5 + \n",
    "\t\t\tage + I(age^2) + as.factor(academic) + sex +\n",
    "\t\t\thhincome + couple + nchild + health ,\n",
    "\t\t\tdata, subset = (sex==1), # sex=male\n",
    "\t\t\tindex = c('id','wave.num'), model = 'random')\n",
    "summary(adpt.unemp.int)\n",
    "\n",
    "adpt.unemp.int <- plm(lfsato ~ unemp.lastyr.each.slot + \n",
    " \t\t\temp.postunemp.in1yr.t1 + emp.postunemp.in1yr.t2 + emp.postunemp.in1yr.t3 + emp.postunemp.in1yr.t4 + emp.postunemp.in1yr.t5 + \n",
    "\t\t\tage + I(age^2) + as.factor(academic) + sex +\n",
    "\t\t\thhincome + couple + nchild + health ,\n",
    "\t\t\tdata, subset = (sex==2), # sex=female\n",
    "\t\t\tindex = c('id','wave.num'), model = 'random')\n",
    "summary(adpt.unemp.int)\n"
   ]
  },
  {
   "cell_type": "markdown",
   "metadata": {},
   "source": [
    "## Life satisfation after unemployment (fixed effect) - left paid employment"
   ]
  },
  {
   "cell_type": "markdown",
   "metadata": {},
   "source": [
    "### Model outputs\n",
    "- There are scarring effects in the first two years.\n",
    "- Disappears over time.\n",
    "- Only exists for males.\n",
    "- Might need to remove the last dummy which is confusing."
   ]
  },
  {
   "cell_type": "code",
   "execution_count": 29,
   "metadata": {
    "nbpresent": {
     "id": "d9413dbc-a273-4f10-b089-23c10855d951"
    }
   },
   "outputs": [
    {
     "data": {
      "text/plain": [
       "Oneway (individual) effect Within Model\n",
       "\n",
       "Call:\n",
       "plm(formula = lfsato ~ unemp.lastyr.each.slot + nonemp.postunemp.in1yr.t1 + \n",
       "    nonemp.postunemp.in1yr.t2 + nonemp.postunemp.in1yr.t3 + nonemp.postunemp.in1yr.t4 + \n",
       "    nonemp.postunemp.in1yr.t5 + age + I(age^2) + as.factor(academic) + \n",
       "    hhincome + couple + nchild + health, data = data, model = \"within\", \n",
       "    index = c(\"id\", \"wave.num\"))\n",
       "\n",
       "Unbalanced Panel: n=22103, T=1-11, N=116757\n",
       "\n",
       "Residuals :\n",
       "    Min.  1st Qu.   Median  3rd Qu.     Max. \n",
       "-5.40000 -0.39100  0.00813  0.44400  4.55000 \n",
       "\n",
       "Coefficients :\n",
       "                             Estimate  Std. Error  t-value  Pr(>|t|)    \n",
       "unemp.lastyr.each.slot    -2.5333e-01  2.0617e-02 -12.2876 < 2.2e-16 ***\n",
       "nonemp.postunemp.in1yr.t1 -7.5055e-02  2.8300e-02  -2.6521  0.008000 ** \n",
       "nonemp.postunemp.in1yr.t2 -7.1537e-02  3.5680e-02  -2.0050  0.044970 *  \n",
       "nonemp.postunemp.in1yr.t3 -4.2749e-02  4.0687e-02  -1.0507  0.293400    \n",
       "nonemp.postunemp.in1yr.t4 -4.1318e-03  4.5146e-02  -0.0915  0.927079    \n",
       "nonemp.postunemp.in1yr.t5 -1.3613e-01  5.1266e-02  -2.6554  0.007924 ** \n",
       "age                       -5.4950e-02  3.3908e-03 -16.2058 < 2.2e-16 ***\n",
       "I(age^2)                   5.6112e-04  3.9246e-05  14.2976 < 2.2e-16 ***\n",
       "as.factor(academic)2      -9.1630e-02  5.5089e-02  -1.6633  0.096252 .  \n",
       "as.factor(academic)3      -6.6475e-02  6.8362e-02  -0.9724  0.330860    \n",
       "as.factor(academic)4      -5.8900e-02  5.6864e-02  -1.0358  0.300293    \n",
       "as.factor(academic)5      -8.6898e-02  5.9782e-02  -1.4536  0.146070    \n",
       "as.factor(academic)6      -1.5912e-01  9.2339e-02  -1.7232  0.084852 .  \n",
       "as.factor(academic)7      -1.8196e-01  7.3968e-02  -2.4600  0.013896 *  \n",
       "hhincome                   7.4147e-06  1.9193e-06   3.8632  0.000112 ***\n",
       "couple                     2.4327e-01  1.3068e-02  18.6164 < 2.2e-16 ***\n",
       "nchild                     2.9852e-03  6.0719e-03   0.4916  0.622974    \n",
       "health                     2.2546e-01  4.4504e-03  50.6607 < 2.2e-16 ***\n",
       "---\n",
       "Signif. codes:  0 ‘***’ 0.001 ‘**’ 0.01 ‘*’ 0.05 ‘.’ 0.1 ‘ ’ 1\n",
       "\n",
       "Total Sum of Squares:    73174\n",
       "Residual Sum of Squares: 70712\n",
       "R-Squared:      0.033652\n",
       "Adj. R-Squared: -0.19222\n",
       "F-statistic: 183.09 on 18 and 94636 DF, p-value: < 2.22e-16"
      ]
     },
     "metadata": {},
     "output_type": "display_data"
    },
    {
     "data": {
      "text/plain": [
       "Oneway (individual) effect Within Model\n",
       "\n",
       "Call:\n",
       "plm(formula = lfsato ~ unemp.lastyr.each.slot + nonemp.postunemp.in1yr.t1 + \n",
       "    nonemp.postunemp.in1yr.t2 + nonemp.postunemp.in1yr.t3 + nonemp.postunemp.in1yr.t4 + \n",
       "    nonemp.postunemp.in1yr.t5 + age + I(age^2) + as.factor(academic) + \n",
       "    hhincome + couple + nchild + health, data = data, subset = (sex == \n",
       "    1), model = \"within\", index = c(\"id\", \"wave.num\"))\n",
       "\n",
       "Unbalanced Panel: n=10439, T=1-11, N=53622\n",
       "\n",
       "Residuals :\n",
       "    Min.  1st Qu.   Median  3rd Qu.     Max. \n",
       "-5.12000 -0.37400  0.00708  0.42400  4.53000 \n",
       "\n",
       "Coefficients :\n",
       "                             Estimate  Std. Error  t-value  Pr(>|t|)    \n",
       "unemp.lastyr.each.slot    -2.5280e-01  2.7735e-02  -9.1148 < 2.2e-16 ***\n",
       "nonemp.postunemp.in1yr.t1 -1.0637e-01  4.0092e-02  -2.6531 0.0079774 ** \n",
       "nonemp.postunemp.in1yr.t2 -7.6531e-02  5.2681e-02  -1.4527 0.1463093    \n",
       "nonemp.postunemp.in1yr.t3 -2.3435e-01  6.1006e-02  -3.8413 0.0001225 ***\n",
       "nonemp.postunemp.in1yr.t4 -2.3104e-04  6.7691e-02  -0.0034 0.9972767    \n",
       "nonemp.postunemp.in1yr.t5 -8.4754e-02  7.8418e-02  -1.0808 0.2797889    \n",
       "age                       -6.9054e-02  4.8350e-03 -14.2821 < 2.2e-16 ***\n",
       "I(age^2)                   7.2402e-04  5.5854e-05  12.9628 < 2.2e-16 ***\n",
       "as.factor(academic)2      -1.4709e-01  7.5859e-02  -1.9390 0.0525060 .  \n",
       "as.factor(academic)3      -1.3361e-01  9.6681e-02  -1.3819 0.1669963    \n",
       "as.factor(academic)4      -4.3210e-02  7.7864e-02  -0.5549 0.5789386    \n",
       "as.factor(academic)5      -1.1690e-03  8.3548e-02  -0.0140 0.9888365    \n",
       "as.factor(academic)6       3.1042e-02  1.2913e-01   0.2404 0.8100264    \n",
       "as.factor(academic)7      -2.4586e-01  1.0488e-01  -2.3442 0.0190745 *  \n",
       "hhincome                   1.2455e-05  2.6571e-06   4.6874 2.776e-06 ***\n",
       "couple                     2.5177e-01  2.0079e-02  12.5390 < 2.2e-16 ***\n",
       "nchild                     1.2623e-02  8.6245e-03   1.4636 0.1433024    \n",
       "health                     2.2255e-01  6.5392e-03  34.0338 < 2.2e-16 ***\n",
       "---\n",
       "Signif. codes:  0 ‘***’ 0.001 ‘**’ 0.01 ‘*’ 0.05 ‘.’ 0.1 ‘ ’ 1\n",
       "\n",
       "Total Sum of Squares:    31003\n",
       "Residual Sum of Squares: 29872\n",
       "R-Squared:      0.036478\n",
       "Adj. R-Squared: -0.19692\n",
       "F-statistic: 90.7888 on 18 and 43165 DF, p-value: < 2.22e-16"
      ]
     },
     "metadata": {},
     "output_type": "display_data"
    },
    {
     "data": {
      "text/plain": [
       "Oneway (individual) effect Within Model\n",
       "\n",
       "Call:\n",
       "plm(formula = lfsato ~ unemp.lastyr.each.slot + nonemp.postunemp.in1yr.t1 + \n",
       "    nonemp.postunemp.in1yr.t2 + nonemp.postunemp.in1yr.t3 + nonemp.postunemp.in1yr.t4 + \n",
       "    nonemp.postunemp.in1yr.t5 + age + I(age^2) + as.factor(academic) + \n",
       "    hhincome + couple + nchild + health, data = data, subset = (sex == \n",
       "    2), model = \"within\", index = c(\"id\", \"wave.num\"))\n",
       "\n",
       "Unbalanced Panel: n=11664, T=1-11, N=63135\n",
       "\n",
       "Residuals :\n",
       "    Min.  1st Qu.   Median  3rd Qu.     Max. \n",
       "-5.40000 -0.40700  0.00925  0.46200  4.49000 \n",
       "\n",
       "Coefficients :\n",
       "                             Estimate  Std. Error t-value  Pr(>|t|)    \n",
       "unemp.lastyr.each.slot    -2.5197e-01  3.0414e-02 -8.2846 < 2.2e-16 ***\n",
       "nonemp.postunemp.in1yr.t1 -4.6110e-02  3.9735e-02 -1.1605   0.24587    \n",
       "nonemp.postunemp.in1yr.t2 -6.6076e-02  4.8486e-02 -1.3628   0.17296    \n",
       "nonemp.postunemp.in1yr.t3  9.1276e-02  5.4689e-02  1.6690   0.09512 .  \n",
       "nonemp.postunemp.in1yr.t4 -5.4224e-03  6.0687e-02 -0.0894   0.92880    \n",
       "nonemp.postunemp.in1yr.t5 -1.6417e-01  6.7988e-02 -2.4147   0.01575 *  \n",
       "age                       -4.2527e-02  4.7428e-03 -8.9667 < 2.2e-16 ***\n",
       "I(age^2)                   4.1662e-04  5.4968e-05  7.5793 3.533e-14 ***\n",
       "as.factor(academic)2      -6.2754e-02  7.9668e-02 -0.7877   0.43088    \n",
       "as.factor(academic)3      -4.2168e-03  9.6403e-02 -0.0437   0.96511    \n",
       "as.factor(academic)4      -6.7936e-02  8.2598e-02 -0.8225   0.41080    \n",
       "as.factor(academic)5      -1.4152e-01  8.5589e-02 -1.6534   0.09825 .  \n",
       "as.factor(academic)6      -3.2062e-01  1.3154e-01 -2.4374   0.01480 *  \n",
       "as.factor(academic)7      -1.4373e-01  1.0446e-01 -1.3760   0.16884    \n",
       "hhincome                   2.7204e-06  2.7530e-06  0.9882   0.32308    \n",
       "couple                     2.3870e-01  1.7388e-02 13.7277 < 2.2e-16 ***\n",
       "nchild                    -6.4117e-03  8.5841e-03 -0.7469   0.45511    \n",
       "health                     2.2761e-01  6.0687e-03 37.5053 < 2.2e-16 ***\n",
       "---\n",
       "Signif. codes:  0 ‘***’ 0.001 ‘**’ 0.01 ‘*’ 0.05 ‘.’ 0.1 ‘ ’ 1\n",
       "\n",
       "Total Sum of Squares:    42171\n",
       "Residual Sum of Squares: 40787\n",
       "R-Squared:      0.032826\n",
       "Adj. R-Squared: -0.18674\n",
       "F-statistic: 97.0167 on 18 and 51453 DF, p-value: < 2.22e-16"
      ]
     },
     "metadata": {},
     "output_type": "display_data"
    }
   ],
   "source": [
    "## adpt post unemp - non-employed - fixed ##\n",
    "\n",
    "# overall #\n",
    "\n",
    "\n",
    "adpt.unemp.int <- plm(lfsato ~ unemp.lastyr.each.slot + \n",
    "\t\t\tnonemp.postunemp.in1yr.t1 + nonemp.postunemp.in1yr.t2 + nonemp.postunemp.in1yr.t3 + nonemp.postunemp.in1yr.t4 + nonemp.postunemp.in1yr.t5 + \n",
    "\t\t\tage + I(age^2) + as.factor(academic) + \n",
    "\t\t\thhincome + couple + nchild + health ,\n",
    "\t\t\tdata, \n",
    "\t\t\tindex = c('id','wave.num'), model = 'within')\n",
    "summary(adpt.unemp.int)\n",
    "coef.adpt.unemp <- adpt.unemp.int$coefficients[1:6]\n",
    "\n",
    "\n",
    "# by sex #\n",
    "\n",
    "adpt.unemp.int <- plm(lfsato ~ unemp.lastyr.each.slot + \n",
    " \t\t\tnonemp.postunemp.in1yr.t1 + nonemp.postunemp.in1yr.t2 + nonemp.postunemp.in1yr.t3 + nonemp.postunemp.in1yr.t4 + nonemp.postunemp.in1yr.t5 + \n",
    "\t\t\tage + I(age^2) + as.factor(academic) + \n",
    "\t\t\thhincome + couple + nchild + health ,\n",
    "\t\t\tdata, subset = (sex==1), # sex=male\n",
    "\t\t\tindex = c('id','wave.num'), model = 'within')\n",
    "summary(adpt.unemp.int)\n",
    "coef.adpt.unemp.m <- adpt.unemp.int$coefficients[1:6]\n",
    "\n",
    "\n",
    "adpt.unemp.int <- plm(lfsato ~ unemp.lastyr.each.slot + \n",
    " \t\t\tnonemp.postunemp.in1yr.t1 + nonemp.postunemp.in1yr.t2 + nonemp.postunemp.in1yr.t3 + nonemp.postunemp.in1yr.t4 + nonemp.postunemp.in1yr.t5 + \n",
    "\t\t\tage + I(age^2) + as.factor(academic) + \n",
    "\t\t\thhincome + couple + nchild + health ,\n",
    "\t\t\tdata, subset = (sex==2), # sex=female\n",
    "\t\t\tindex = c('id','wave.num'), model = 'within')\n",
    "summary(adpt.unemp.int)\n",
    "coef.adpt.unemp.f <- adpt.unemp.int$coefficients[1:6]\n"
   ]
  },
  {
   "cell_type": "code",
   "execution_count": 30,
   "metadata": {},
   "outputs": [
    {
     "data": {
      "image/png": "[encoded data removed]",
      "text/plain": [
       "plot without title"
      ]
     },
     "metadata": {},
     "output_type": "display_data"
    }
   ],
   "source": [
    "# plot #\n",
    "par(mfrow=c(1,3))\n",
    "\n",
    "plot(coef.adpt.unemp,ylim=c(-0.4,0.2),type='o',xaxt = 'n',xlab='All')\n",
    "abline(h=0,col='red')\n",
    "axis(1,at=c(2,4),labels=c('t(post unemp)','t+2')) \n",
    "\n",
    "plot(coef.adpt.unemp.m,ylim=c(-0.4,0.2),type='o',xaxt = 'n',xlab='Male')\n",
    "abline(h=0,col='red')\n",
    "axis(1,at=c(2,4),labels=c('t(post unemp)','t+2')) \n",
    "\n",
    "plot(coef.adpt.unemp.f,ylim=c(-0.4,0.2),type='o',xaxt = 'n',xlab='Female')\n",
    "abline(h=0,col='red')\n",
    "axis(1,at=c(2,4),labels=c('t(post unemp)','t+2')) "
   ]
  },
  {
   "cell_type": "markdown",
   "metadata": {},
   "source": [
    "### Random effect models - very clear scarring effects"
   ]
  },
  {
   "cell_type": "code",
   "execution_count": null,
   "metadata": {
    "collapsed": true
   },
   "outputs": [],
   "source": []
  }
 ],
 "metadata": {
  "kernelspec": {
   "display_name": "R",
   "language": "R",
   "name": "ir"
  },
  "language_info": {
   "codemirror_mode": "r",
   "file_extension": ".r",
   "mimetype": "text/x-r-source",
   "name": "R",
   "pygments_lexer": "r",
   "version": "3.4.1"
  },
  "nbpresent": {
   "slides": {
    "07036cc5-8e40-499b-b422-d408f8b6e5fb": {
     "id": "07036cc5-8e40-499b-b422-d408f8b6e5fb",
     "prev": "f5b4a50d-3794-4898-b5fe-79ed91ea0772",
     "regions": {
      "460fffc8-20ad-4460-9d26-4da0102eaa15": {
       "attrs": {
        "height": 0.8,
        "width": 0.8,
        "x": 0.1,
        "y": 0.1
       },
       "content": {
        "cell": "4efd38da-e7fc-475d-b11e-45bc7855e8d6",
        "part": "whole"
       },
       "id": "460fffc8-20ad-4460-9d26-4da0102eaa15"
      }
     }
    },
    "0a8a9fdb-137c-412b-b67a-afcbd267b196": {
     "id": "0a8a9fdb-137c-412b-b67a-afcbd267b196",
     "prev": "8ea6e547-e2e4-430c-a596-b24d20637b1b",
     "regions": {
      "d38c11da-40c5-4312-8cc5-76758daa7009": {
       "attrs": {
        "height": 0.8,
        "width": 0.8,
        "x": 0.1,
        "y": 0.1
       },
       "content": {
        "cell": "9c3abd56-d598-45df-81a1-4e63c2418207",
        "part": "whole"
       },
       "id": "d38c11da-40c5-4312-8cc5-76758daa7009"
      }
     }
    },
    "434da450-3690-440d-9c3d-780c7c0f3806": {
     "id": "434da450-3690-440d-9c3d-780c7c0f3806",
     "prev": "0a8a9fdb-137c-412b-b67a-afcbd267b196",
     "regions": {
      "c2a2398a-fe7f-4742-b92a-cabdbfbd1a23": {
       "attrs": {
        "height": 0.8,
        "width": 0.8,
        "x": 0.1,
        "y": 0.1
       },
       "content": {
        "cell": "1cf00ca7-f42b-4f2f-b844-9ff7e95efb32",
        "part": "whole"
       },
       "id": "c2a2398a-fe7f-4742-b92a-cabdbfbd1a23"
      }
     }
    },
    "45cee3f9-0218-4833-ac05-29063c6bed79": {
     "id": "45cee3f9-0218-4833-ac05-29063c6bed79",
     "prev": null,
     "regions": {
      "82f37598-e710-4a24-ab9e-196aa2ad1102": {
       "attrs": {
        "height": 0.8000000000000002,
        "width": 0.8,
        "x": 0.1,
        "y": 0.10000000000000002
       },
       "content": {
        "cell": "834a6be5-99d3-4011-8ea2-416ee2895d37",
        "part": "whole"
       },
       "id": "82f37598-e710-4a24-ab9e-196aa2ad1102"
      }
     },
     "theme": null
    },
    "880e121b-4172-4394-9e9a-1b316ea28200": {
     "id": "880e121b-4172-4394-9e9a-1b316ea28200",
     "prev": "99be0e79-5829-4725-9e0b-69a87ece9b0d",
     "regions": {
      "739a278d-06d4-425d-9118-b1f6f74cca1e": {
       "attrs": {
        "height": 0.8,
        "width": 0.8,
        "x": 0.1,
        "y": 0.1
       },
       "content": {
        "cell": "ed170ca4-4cc8-41c3-a712-3377f58f8c61",
        "part": "whole"
       },
       "id": "739a278d-06d4-425d-9118-b1f6f74cca1e"
      }
     }
    },
    "88e7cdf2-e396-4b26-bcbb-ba02867b0937": {
     "id": "88e7cdf2-e396-4b26-bcbb-ba02867b0937",
     "prev": "07036cc5-8e40-499b-b422-d408f8b6e5fb",
     "regions": {
      "75a129c9-6fc5-42d7-b093-f4beec2c0612": {
       "attrs": {
        "height": 0.8,
        "width": 0.8,
        "x": 0.1,
        "y": 0.1
       },
       "content": {
        "cell": "730f4460-96e6-4a26-bd14-c2f5e9759db1",
        "part": "whole"
       },
       "id": "75a129c9-6fc5-42d7-b093-f4beec2c0612"
      }
     }
    },
    "8ea6e547-e2e4-430c-a596-b24d20637b1b": {
     "id": "8ea6e547-e2e4-430c-a596-b24d20637b1b",
     "prev": "88e7cdf2-e396-4b26-bcbb-ba02867b0937",
     "regions": {
      "c0effd5b-2801-48e0-acdb-582add83767d": {
       "attrs": {
        "height": 0.8,
        "width": 0.8,
        "x": 0.1,
        "y": 0.1
       },
       "content": {
        "cell": "b2d73ea7-daf1-4db8-b14b-a0b15b2e1799",
        "part": "whole"
       },
       "id": "c0effd5b-2801-48e0-acdb-582add83767d"
      }
     }
    },
    "99be0e79-5829-4725-9e0b-69a87ece9b0d": {
     "id": "99be0e79-5829-4725-9e0b-69a87ece9b0d",
     "prev": "434da450-3690-440d-9c3d-780c7c0f3806",
     "regions": {
      "a3b66c9f-3c0c-4f55-a333-7afce78a6cbb": {
       "attrs": {
        "height": 0.8,
        "width": 0.8,
        "x": 0.1,
        "y": 0.1
       },
       "content": {
        "cell": "84e92a3f-0b01-4ca6-9add-c72d7f4f7cf7",
        "part": "whole"
       },
       "id": "a3b66c9f-3c0c-4f55-a333-7afce78a6cbb"
      }
     }
    },
    "d3d0bc54-aad5-4e8e-bff0-8173801196ba": {
     "id": "d3d0bc54-aad5-4e8e-bff0-8173801196ba",
     "prev": "880e121b-4172-4394-9e9a-1b316ea28200",
     "regions": {
      "f265e803-ad14-4416-8b78-92a3205c664f": {
       "attrs": {
        "height": 0.8,
        "width": 0.8,
        "x": 0.1,
        "y": 0.1
       },
       "content": {
        "cell": "d9413dbc-a273-4f10-b089-23c10855d951",
        "part": "whole"
       },
       "id": "f265e803-ad14-4416-8b78-92a3205c664f"
      }
     }
    },
    "f27b83c9-eb32-48b3-b0ca-07d6394f010a": {
     "id": "f27b83c9-eb32-48b3-b0ca-07d6394f010a",
     "prev": "45cee3f9-0218-4833-ac05-29063c6bed79",
     "regions": {
      "9e1d55cc-74e4-4271-bfd6-8730aa9671e6": {
       "attrs": {
        "height": 0.8,
        "width": 0.8,
        "x": 0.1,
        "y": 0.1
       },
       "content": {
        "cell": "f9b28deb-71ea-4ed8-9fe5-6015ce524e53",
        "part": "whole"
       },
       "id": "9e1d55cc-74e4-4271-bfd6-8730aa9671e6"
      }
     }
    },
    "f5b4a50d-3794-4898-b5fe-79ed91ea0772": {
     "id": "f5b4a50d-3794-4898-b5fe-79ed91ea0772",
     "prev": "f27b83c9-eb32-48b3-b0ca-07d6394f010a",
     "regions": {
      "8a87483f-a24e-4f43-b324-ffaf4a2fe311": {
       "attrs": {
        "height": 0.8,
        "width": 0.8,
        "x": 0.1,
        "y": 0.1
       },
       "content": {
        "cell": "a4d07ca9-854a-443f-a5f4-858bc0a061f4",
        "part": "whole"
       },
       "id": "8a87483f-a24e-4f43-b324-ffaf4a2fe311"
      }
     }
    }
   },
   "themes": {}
  }
 },
 "nbformat": 4,
 "nbformat_minor": 1
}
